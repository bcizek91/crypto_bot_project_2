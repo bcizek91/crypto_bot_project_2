{
 "cells": [
  {
   "cell_type": "code",
   "execution_count": 2,
   "metadata": {},
   "outputs": [],
   "source": [
    "#This code heavily references code =used for the following tutorial article:\n",
    "###https://machinelearningmastery.com/multivariate-time-series-forecasting-lstms-keras/\n",
    "\n",
    "\n",
    "import numpy as np\n",
    "import pandas as pd\n",
    "from matplotlib import pyplot\n",
    "from sklearn.preprocessing import MinMaxScaler\n",
    "from sklearn.metrics import mean_squared_error\n",
    "from tensorflow.keras.models import Sequential\n",
    "from tensorflow.keras.layers import LSTM, Dense, Dropout"
   ]
  },
  {
   "cell_type": "code",
   "execution_count": 3,
   "metadata": {},
   "outputs": [],
   "source": [
    "dataset = pd.read_csv('data/500_five_min_intervals_btc.csv')"
   ]
  },
  {
   "cell_type": "code",
   "execution_count": 1268,
   "metadata": {},
   "outputs": [
    {
     "data": {
      "text/html": [
       "<div>\n",
       "<style scoped>\n",
       "    .dataframe tbody tr th:only-of-type {\n",
       "        vertical-align: middle;\n",
       "    }\n",
       "\n",
       "    .dataframe tbody tr th {\n",
       "        vertical-align: top;\n",
       "    }\n",
       "\n",
       "    .dataframe thead th {\n",
       "        text-align: right;\n",
       "    }\n",
       "</style>\n",
       "<table border=\"1\" class=\"dataframe\">\n",
       "  <thead>\n",
       "    <tr style=\"text-align: right;\">\n",
       "      <th></th>\n",
       "      <th>Unnamed: 0</th>\n",
       "      <th>ask</th>\n",
       "      <th>askVolume</th>\n",
       "      <th>average</th>\n",
       "      <th>baseVolume</th>\n",
       "      <th>bid</th>\n",
       "      <th>bidVolume</th>\n",
       "      <th>change</th>\n",
       "      <th>close</th>\n",
       "      <th>datetime</th>\n",
       "      <th>...</th>\n",
       "      <th>low</th>\n",
       "      <th>open</th>\n",
       "      <th>percentage</th>\n",
       "      <th>previousClose</th>\n",
       "      <th>quoteVolume</th>\n",
       "      <th>redd_sent</th>\n",
       "      <th>symbol</th>\n",
       "      <th>timestamp</th>\n",
       "      <th>twi_sent</th>\n",
       "      <th>vwap</th>\n",
       "    </tr>\n",
       "  </thead>\n",
       "  <tbody>\n",
       "    <tr>\n",
       "      <th>500</th>\n",
       "      <td>500.0</td>\n",
       "      <td>55703.2</td>\n",
       "      <td>NaN</td>\n",
       "      <td>NaN</td>\n",
       "      <td>6154.049106</td>\n",
       "      <td>55703.1</td>\n",
       "      <td>NaN</td>\n",
       "      <td>NaN</td>\n",
       "      <td>55703.1</td>\n",
       "      <td>2021-03-16T17:06:35.090Z</td>\n",
       "      <td>...</td>\n",
       "      <td>52500.0</td>\n",
       "      <td>55627.6</td>\n",
       "      <td>NaN</td>\n",
       "      <td>NaN</td>\n",
       "      <td>3.392954e+08</td>\n",
       "      <td>0.0</td>\n",
       "      <td>BTC/USD</td>\n",
       "      <td>1.615914e+12</td>\n",
       "      <td>0.201418</td>\n",
       "      <td>55133.68398</td>\n",
       "    </tr>\n",
       "  </tbody>\n",
       "</table>\n",
       "<p>1 rows × 22 columns</p>\n",
       "</div>"
      ],
      "text/plain": [
       "     Unnamed: 0      ask  askVolume  average   baseVolume      bid  bidVolume  \\\n",
       "500       500.0  55703.2        NaN      NaN  6154.049106  55703.1        NaN   \n",
       "\n",
       "     change    close                  datetime  ...      low     open  \\\n",
       "500     NaN  55703.1  2021-03-16T17:06:35.090Z  ...  52500.0  55627.6   \n",
       "\n",
       "     percentage  previousClose   quoteVolume  redd_sent   symbol  \\\n",
       "500         NaN            NaN  3.392954e+08        0.0  BTC/USD   \n",
       "\n",
       "        timestamp  twi_sent         vwap  \n",
       "500  1.615914e+12  0.201418  55133.68398  \n",
       "\n",
       "[1 rows x 22 columns]"
      ]
     },
     "execution_count": 1268,
     "metadata": {},
     "output_type": "execute_result"
    }
   ],
   "source": [
    "tester = pd.DataFrame()\n",
    "tester = tester.append(dataset.iloc[-1])\n",
    "tester"
   ]
  },
  {
   "cell_type": "code",
   "execution_count": 4,
   "metadata": {},
   "outputs": [],
   "source": [
    "y_scaler = MinMaxScaler(feature_range=(0, 1))\n",
    "dataset['close'] = y_scaler.fit_transform(dataset['close'].values.reshape(-1,1))\n",
    "vol_scaler = MinMaxScaler(feature_range=(0, 1))\n",
    "dataset['baseVolume'] = vol_scaler.fit_transform(dataset['baseVolume'].values.reshape(-1,1))"
   ]
  },
  {
   "cell_type": "code",
   "execution_count": 1270,
   "metadata": {},
   "outputs": [
    {
     "data": {
      "text/plain": [
       "(501, 1)"
      ]
     },
     "execution_count": 1270,
     "metadata": {},
     "output_type": "execute_result"
    }
   ],
   "source": [
    "dataset.close.values.reshape(-1,1).shape"
   ]
  },
  {
   "cell_type": "code",
   "execution_count": 1228,
   "metadata": {},
   "outputs": [
    {
     "ename": "KeyError",
     "evalue": "'datetime'",
     "output_type": "error",
     "traceback": [
      "\u001b[1;31m---------------------------------------------------------------------------\u001b[0m",
      "\u001b[1;31mKeyError\u001b[0m                                  Traceback (most recent call last)",
      "\u001b[1;32m~\\anaconda3\\envs\\pyvizenv\\lib\\site-packages\\pandas\\core\\indexes\\base.py\u001b[0m in \u001b[0;36mget_loc\u001b[1;34m(self, key, method, tolerance)\u001b[0m\n\u001b[0;32m   2656\u001b[0m             \u001b[1;32mtry\u001b[0m\u001b[1;33m:\u001b[0m\u001b[1;33m\u001b[0m\u001b[1;33m\u001b[0m\u001b[0m\n\u001b[1;32m-> 2657\u001b[1;33m                 \u001b[1;32mreturn\u001b[0m \u001b[0mself\u001b[0m\u001b[1;33m.\u001b[0m\u001b[0m_engine\u001b[0m\u001b[1;33m.\u001b[0m\u001b[0mget_loc\u001b[0m\u001b[1;33m(\u001b[0m\u001b[0mkey\u001b[0m\u001b[1;33m)\u001b[0m\u001b[1;33m\u001b[0m\u001b[1;33m\u001b[0m\u001b[0m\n\u001b[0m\u001b[0;32m   2658\u001b[0m             \u001b[1;32mexcept\u001b[0m \u001b[0mKeyError\u001b[0m\u001b[1;33m:\u001b[0m\u001b[1;33m\u001b[0m\u001b[1;33m\u001b[0m\u001b[0m\n",
      "\u001b[1;32mpandas/_libs/index.pyx\u001b[0m in \u001b[0;36mpandas._libs.index.IndexEngine.get_loc\u001b[1;34m()\u001b[0m\n",
      "\u001b[1;32mpandas/_libs/index.pyx\u001b[0m in \u001b[0;36mpandas._libs.index.IndexEngine.get_loc\u001b[1;34m()\u001b[0m\n",
      "\u001b[1;32mpandas/_libs/hashtable_class_helper.pxi\u001b[0m in \u001b[0;36mpandas._libs.hashtable.PyObjectHashTable.get_item\u001b[1;34m()\u001b[0m\n",
      "\u001b[1;32mpandas/_libs/hashtable_class_helper.pxi\u001b[0m in \u001b[0;36mpandas._libs.hashtable.PyObjectHashTable.get_item\u001b[1;34m()\u001b[0m\n",
      "\u001b[1;31mKeyError\u001b[0m: 'datetime'",
      "\nDuring handling of the above exception, another exception occurred:\n",
      "\u001b[1;31mKeyError\u001b[0m                                  Traceback (most recent call last)",
      "\u001b[1;32m<ipython-input-1228-cb82dd15b3fb>\u001b[0m in \u001b[0;36m<module>\u001b[1;34m\u001b[0m\n\u001b[1;32m----> 1\u001b[1;33m \u001b[0mtest_df\u001b[0m \u001b[1;33m=\u001b[0m \u001b[0mlive_ticker_shaper\u001b[0m\u001b[1;33m(\u001b[0m\u001b[0mtester\u001b[0m\u001b[1;33m,\u001b[0m \u001b[0mscaler\u001b[0m\u001b[1;33m)\u001b[0m\u001b[1;33m\u001b[0m\u001b[1;33m\u001b[0m\u001b[0m\n\u001b[0m",
      "\u001b[1;32m<ipython-input-1175-0f8cfe3868b3>\u001b[0m in \u001b[0;36mlive_ticker_shaper\u001b[1;34m(dataset, scaler)\u001b[0m\n\u001b[0;32m      1\u001b[0m \u001b[1;31m#This is function is designed to take live ticker data and shape it for our LSTM model.\u001b[0m\u001b[1;33m\u001b[0m\u001b[1;33m\u001b[0m\u001b[1;33m\u001b[0m\u001b[0m\n\u001b[0;32m      2\u001b[0m \u001b[1;32mdef\u001b[0m \u001b[0mlive_ticker_shaper\u001b[0m\u001b[1;33m(\u001b[0m\u001b[0mdataset\u001b[0m\u001b[1;33m,\u001b[0m \u001b[0mscaler\u001b[0m\u001b[1;33m)\u001b[0m\u001b[1;33m:\u001b[0m\u001b[1;33m\u001b[0m\u001b[1;33m\u001b[0m\u001b[0m\n\u001b[1;32m----> 3\u001b[1;33m     \u001b[0mdataset\u001b[0m\u001b[1;33m[\u001b[0m\u001b[1;34m'datetime'\u001b[0m\u001b[1;33m]\u001b[0m \u001b[1;33m=\u001b[0m \u001b[0mpd\u001b[0m\u001b[1;33m.\u001b[0m\u001b[0mto_datetime\u001b[0m\u001b[1;33m(\u001b[0m\u001b[0mdataset\u001b[0m\u001b[1;33m[\u001b[0m\u001b[1;34m'datetime'\u001b[0m\u001b[1;33m]\u001b[0m\u001b[1;33m,\u001b[0m\u001b[0minfer_datetime_format\u001b[0m \u001b[1;33m=\u001b[0m \u001b[1;32mTrue\u001b[0m\u001b[1;33m)\u001b[0m\u001b[1;33m\u001b[0m\u001b[1;33m\u001b[0m\u001b[0m\n\u001b[0m\u001b[0;32m      4\u001b[0m     \u001b[0mdataset\u001b[0m\u001b[1;33m.\u001b[0m\u001b[0mset_index\u001b[0m\u001b[1;33m(\u001b[0m\u001b[1;33m[\u001b[0m\u001b[1;34m'datetime'\u001b[0m\u001b[1;33m]\u001b[0m\u001b[1;33m,\u001b[0m\u001b[0minplace\u001b[0m \u001b[1;33m=\u001b[0m \u001b[1;32mTrue\u001b[0m\u001b[1;33m)\u001b[0m\u001b[1;33m\u001b[0m\u001b[1;33m\u001b[0m\u001b[0m\n\u001b[0;32m      5\u001b[0m     \u001b[0mdata\u001b[0m \u001b[1;33m=\u001b[0m \u001b[0mdataset\u001b[0m\u001b[1;33m[\u001b[0m\u001b[1;33m[\u001b[0m\u001b[1;34m'close'\u001b[0m\u001b[1;33m,\u001b[0m\u001b[1;34m'baseVolume'\u001b[0m\u001b[1;33m,\u001b[0m\u001b[1;34m'redd_sent'\u001b[0m\u001b[1;33m,\u001b[0m\u001b[1;34m'twi_sent'\u001b[0m\u001b[1;33m]\u001b[0m\u001b[1;33m]\u001b[0m\u001b[1;33m.\u001b[0m\u001b[0mcopy\u001b[0m\u001b[1;33m(\u001b[0m\u001b[1;33m)\u001b[0m\u001b[1;33m\u001b[0m\u001b[1;33m\u001b[0m\u001b[0m\n",
      "\u001b[1;32m~\\anaconda3\\envs\\pyvizenv\\lib\\site-packages\\pandas\\core\\frame.py\u001b[0m in \u001b[0;36m__getitem__\u001b[1;34m(self, key)\u001b[0m\n\u001b[0;32m   2925\u001b[0m             \u001b[1;32mif\u001b[0m \u001b[0mself\u001b[0m\u001b[1;33m.\u001b[0m\u001b[0mcolumns\u001b[0m\u001b[1;33m.\u001b[0m\u001b[0mnlevels\u001b[0m \u001b[1;33m>\u001b[0m \u001b[1;36m1\u001b[0m\u001b[1;33m:\u001b[0m\u001b[1;33m\u001b[0m\u001b[1;33m\u001b[0m\u001b[0m\n\u001b[0;32m   2926\u001b[0m                 \u001b[1;32mreturn\u001b[0m \u001b[0mself\u001b[0m\u001b[1;33m.\u001b[0m\u001b[0m_getitem_multilevel\u001b[0m\u001b[1;33m(\u001b[0m\u001b[0mkey\u001b[0m\u001b[1;33m)\u001b[0m\u001b[1;33m\u001b[0m\u001b[1;33m\u001b[0m\u001b[0m\n\u001b[1;32m-> 2927\u001b[1;33m             \u001b[0mindexer\u001b[0m \u001b[1;33m=\u001b[0m \u001b[0mself\u001b[0m\u001b[1;33m.\u001b[0m\u001b[0mcolumns\u001b[0m\u001b[1;33m.\u001b[0m\u001b[0mget_loc\u001b[0m\u001b[1;33m(\u001b[0m\u001b[0mkey\u001b[0m\u001b[1;33m)\u001b[0m\u001b[1;33m\u001b[0m\u001b[1;33m\u001b[0m\u001b[0m\n\u001b[0m\u001b[0;32m   2928\u001b[0m             \u001b[1;32mif\u001b[0m \u001b[0mis_integer\u001b[0m\u001b[1;33m(\u001b[0m\u001b[0mindexer\u001b[0m\u001b[1;33m)\u001b[0m\u001b[1;33m:\u001b[0m\u001b[1;33m\u001b[0m\u001b[1;33m\u001b[0m\u001b[0m\n\u001b[0;32m   2929\u001b[0m                 \u001b[0mindexer\u001b[0m \u001b[1;33m=\u001b[0m \u001b[1;33m[\u001b[0m\u001b[0mindexer\u001b[0m\u001b[1;33m]\u001b[0m\u001b[1;33m\u001b[0m\u001b[1;33m\u001b[0m\u001b[0m\n",
      "\u001b[1;32m~\\anaconda3\\envs\\pyvizenv\\lib\\site-packages\\pandas\\core\\indexes\\base.py\u001b[0m in \u001b[0;36mget_loc\u001b[1;34m(self, key, method, tolerance)\u001b[0m\n\u001b[0;32m   2657\u001b[0m                 \u001b[1;32mreturn\u001b[0m \u001b[0mself\u001b[0m\u001b[1;33m.\u001b[0m\u001b[0m_engine\u001b[0m\u001b[1;33m.\u001b[0m\u001b[0mget_loc\u001b[0m\u001b[1;33m(\u001b[0m\u001b[0mkey\u001b[0m\u001b[1;33m)\u001b[0m\u001b[1;33m\u001b[0m\u001b[1;33m\u001b[0m\u001b[0m\n\u001b[0;32m   2658\u001b[0m             \u001b[1;32mexcept\u001b[0m \u001b[0mKeyError\u001b[0m\u001b[1;33m:\u001b[0m\u001b[1;33m\u001b[0m\u001b[1;33m\u001b[0m\u001b[0m\n\u001b[1;32m-> 2659\u001b[1;33m                 \u001b[1;32mreturn\u001b[0m \u001b[0mself\u001b[0m\u001b[1;33m.\u001b[0m\u001b[0m_engine\u001b[0m\u001b[1;33m.\u001b[0m\u001b[0mget_loc\u001b[0m\u001b[1;33m(\u001b[0m\u001b[0mself\u001b[0m\u001b[1;33m.\u001b[0m\u001b[0m_maybe_cast_indexer\u001b[0m\u001b[1;33m(\u001b[0m\u001b[0mkey\u001b[0m\u001b[1;33m)\u001b[0m\u001b[1;33m)\u001b[0m\u001b[1;33m\u001b[0m\u001b[1;33m\u001b[0m\u001b[0m\n\u001b[0m\u001b[0;32m   2660\u001b[0m         \u001b[0mindexer\u001b[0m \u001b[1;33m=\u001b[0m \u001b[0mself\u001b[0m\u001b[1;33m.\u001b[0m\u001b[0mget_indexer\u001b[0m\u001b[1;33m(\u001b[0m\u001b[1;33m[\u001b[0m\u001b[0mkey\u001b[0m\u001b[1;33m]\u001b[0m\u001b[1;33m,\u001b[0m \u001b[0mmethod\u001b[0m\u001b[1;33m=\u001b[0m\u001b[0mmethod\u001b[0m\u001b[1;33m,\u001b[0m \u001b[0mtolerance\u001b[0m\u001b[1;33m=\u001b[0m\u001b[0mtolerance\u001b[0m\u001b[1;33m)\u001b[0m\u001b[1;33m\u001b[0m\u001b[1;33m\u001b[0m\u001b[0m\n\u001b[0;32m   2661\u001b[0m         \u001b[1;32mif\u001b[0m \u001b[0mindexer\u001b[0m\u001b[1;33m.\u001b[0m\u001b[0mndim\u001b[0m \u001b[1;33m>\u001b[0m \u001b[1;36m1\u001b[0m \u001b[1;32mor\u001b[0m \u001b[0mindexer\u001b[0m\u001b[1;33m.\u001b[0m\u001b[0msize\u001b[0m \u001b[1;33m>\u001b[0m \u001b[1;36m1\u001b[0m\u001b[1;33m:\u001b[0m\u001b[1;33m\u001b[0m\u001b[1;33m\u001b[0m\u001b[0m\n",
      "\u001b[1;32mpandas/_libs/index.pyx\u001b[0m in \u001b[0;36mpandas._libs.index.IndexEngine.get_loc\u001b[1;34m()\u001b[0m\n",
      "\u001b[1;32mpandas/_libs/index.pyx\u001b[0m in \u001b[0;36mpandas._libs.index.IndexEngine.get_loc\u001b[1;34m()\u001b[0m\n",
      "\u001b[1;32mpandas/_libs/hashtable_class_helper.pxi\u001b[0m in \u001b[0;36mpandas._libs.hashtable.PyObjectHashTable.get_item\u001b[1;34m()\u001b[0m\n",
      "\u001b[1;32mpandas/_libs/hashtable_class_helper.pxi\u001b[0m in \u001b[0;36mpandas._libs.hashtable.PyObjectHashTable.get_item\u001b[1;34m()\u001b[0m\n",
      "\u001b[1;31mKeyError\u001b[0m: 'datetime'"
     ]
    }
   ],
   "source": [
    "test_df = live_ticker_shaper(tester, scaler)"
   ]
  },
  {
   "cell_type": "code",
   "execution_count": 1172,
   "metadata": {},
   "outputs": [
    {
     "name": "stdout",
     "output_type": "stream",
     "text": [
      "[[0.3231988 0.6076185 0.        0.489654 ]]\n"
     ]
    }
   ],
   "source": [
    "print(test_df)"
   ]
  },
  {
   "cell_type": "code",
   "execution_count": 1296,
   "metadata": {},
   "outputs": [
    {
     "data": {
      "text/html": [
       "<div>\n",
       "<style scoped>\n",
       "    .dataframe tbody tr th:only-of-type {\n",
       "        vertical-align: middle;\n",
       "    }\n",
       "\n",
       "    .dataframe tbody tr th {\n",
       "        vertical-align: top;\n",
       "    }\n",
       "\n",
       "    .dataframe thead th {\n",
       "        text-align: right;\n",
       "    }\n",
       "</style>\n",
       "<table border=\"1\" class=\"dataframe\">\n",
       "  <thead>\n",
       "    <tr style=\"text-align: right;\">\n",
       "      <th></th>\n",
       "      <th>Unnamed: 0</th>\n",
       "      <th>ask</th>\n",
       "      <th>askVolume</th>\n",
       "      <th>average</th>\n",
       "      <th>baseVolume</th>\n",
       "      <th>bid</th>\n",
       "      <th>bidVolume</th>\n",
       "      <th>change</th>\n",
       "      <th>close</th>\n",
       "      <th>datetime</th>\n",
       "      <th>...</th>\n",
       "      <th>low</th>\n",
       "      <th>open</th>\n",
       "      <th>percentage</th>\n",
       "      <th>previousClose</th>\n",
       "      <th>quoteVolume</th>\n",
       "      <th>redd_sent</th>\n",
       "      <th>symbol</th>\n",
       "      <th>timestamp</th>\n",
       "      <th>twi_sent</th>\n",
       "      <th>vwap</th>\n",
       "    </tr>\n",
       "  </thead>\n",
       "  <tbody>\n",
       "    <tr>\n",
       "      <th>0</th>\n",
       "      <td>0</td>\n",
       "      <td>60575.8</td>\n",
       "      <td>NaN</td>\n",
       "      <td>NaN</td>\n",
       "      <td>0.001353</td>\n",
       "      <td>60575.7</td>\n",
       "      <td>NaN</td>\n",
       "      <td>NaN</td>\n",
       "      <td>1.000000</td>\n",
       "      <td>2021-03-14T23:24:31.515Z</td>\n",
       "      <td>...</td>\n",
       "      <td>59258.8</td>\n",
       "      <td>61174.9</td>\n",
       "      <td>NaN</td>\n",
       "      <td>NaN</td>\n",
       "      <td>1.922725e+08</td>\n",
       "      <td>0.521747</td>\n",
       "      <td>BTC/USD</td>\n",
       "      <td>1.615764e+12</td>\n",
       "      <td>0.192540</td>\n",
       "      <td>60437.15997</td>\n",
       "    </tr>\n",
       "    <tr>\n",
       "      <th>1</th>\n",
       "      <td>1</td>\n",
       "      <td>60479.3</td>\n",
       "      <td>NaN</td>\n",
       "      <td>NaN</td>\n",
       "      <td>0.000000</td>\n",
       "      <td>60470.4</td>\n",
       "      <td>NaN</td>\n",
       "      <td>NaN</td>\n",
       "      <td>0.985638</td>\n",
       "      <td>2021-03-14T23:29:31.235Z</td>\n",
       "      <td>...</td>\n",
       "      <td>59258.8</td>\n",
       "      <td>61174.9</td>\n",
       "      <td>NaN</td>\n",
       "      <td>NaN</td>\n",
       "      <td>1.918609e+08</td>\n",
       "      <td>0.510972</td>\n",
       "      <td>BTC/USD</td>\n",
       "      <td>1.615765e+12</td>\n",
       "      <td>0.155409</td>\n",
       "      <td>60433.77015</td>\n",
       "    </tr>\n",
       "    <tr>\n",
       "      <th>2</th>\n",
       "      <td>2</td>\n",
       "      <td>60391.2</td>\n",
       "      <td>NaN</td>\n",
       "      <td>NaN</td>\n",
       "      <td>0.001822</td>\n",
       "      <td>60391.1</td>\n",
       "      <td>NaN</td>\n",
       "      <td>NaN</td>\n",
       "      <td>0.974360</td>\n",
       "      <td>2021-03-14T23:34:31.722Z</td>\n",
       "      <td>...</td>\n",
       "      <td>59258.8</td>\n",
       "      <td>61174.9</td>\n",
       "      <td>NaN</td>\n",
       "      <td>NaN</td>\n",
       "      <td>1.923922e+08</td>\n",
       "      <td>0.508851</td>\n",
       "      <td>BTC/USD</td>\n",
       "      <td>1.615765e+12</td>\n",
       "      <td>0.169993</td>\n",
       "      <td>60431.11236</td>\n",
       "    </tr>\n",
       "    <tr>\n",
       "      <th>3</th>\n",
       "      <td>3</td>\n",
       "      <td>60122.9</td>\n",
       "      <td>NaN</td>\n",
       "      <td>NaN</td>\n",
       "      <td>0.002679</td>\n",
       "      <td>60117.8</td>\n",
       "      <td>NaN</td>\n",
       "      <td>NaN</td>\n",
       "      <td>0.935538</td>\n",
       "      <td>2021-03-14T23:39:31.413Z</td>\n",
       "      <td>...</td>\n",
       "      <td>59258.8</td>\n",
       "      <td>61174.9</td>\n",
       "      <td>NaN</td>\n",
       "      <td>NaN</td>\n",
       "      <td>1.926364e+08</td>\n",
       "      <td>0.526616</td>\n",
       "      <td>BTC/USD</td>\n",
       "      <td>1.615765e+12</td>\n",
       "      <td>0.158870</td>\n",
       "      <td>60428.04756</td>\n",
       "    </tr>\n",
       "    <tr>\n",
       "      <th>4</th>\n",
       "      <td>4</td>\n",
       "      <td>60011.8</td>\n",
       "      <td>NaN</td>\n",
       "      <td>NaN</td>\n",
       "      <td>0.006351</td>\n",
       "      <td>60008.7</td>\n",
       "      <td>NaN</td>\n",
       "      <td>NaN</td>\n",
       "      <td>0.922815</td>\n",
       "      <td>2021-03-14T23:44:31.704Z</td>\n",
       "      <td>...</td>\n",
       "      <td>59258.8</td>\n",
       "      <td>61174.9</td>\n",
       "      <td>NaN</td>\n",
       "      <td>NaN</td>\n",
       "      <td>1.937058e+08</td>\n",
       "      <td>0.515635</td>\n",
       "      <td>BTC/USD</td>\n",
       "      <td>1.615765e+12</td>\n",
       "      <td>0.133040</td>\n",
       "      <td>60422.18785</td>\n",
       "    </tr>\n",
       "  </tbody>\n",
       "</table>\n",
       "<p>5 rows × 22 columns</p>\n",
       "</div>"
      ],
      "text/plain": [
       "   Unnamed: 0      ask  askVolume  average  baseVolume      bid  bidVolume  \\\n",
       "0           0  60575.8        NaN      NaN    0.001353  60575.7        NaN   \n",
       "1           1  60479.3        NaN      NaN    0.000000  60470.4        NaN   \n",
       "2           2  60391.2        NaN      NaN    0.001822  60391.1        NaN   \n",
       "3           3  60122.9        NaN      NaN    0.002679  60117.8        NaN   \n",
       "4           4  60011.8        NaN      NaN    0.006351  60008.7        NaN   \n",
       "\n",
       "   change     close                  datetime  ...      low     open  \\\n",
       "0     NaN  1.000000  2021-03-14T23:24:31.515Z  ...  59258.8  61174.9   \n",
       "1     NaN  0.985638  2021-03-14T23:29:31.235Z  ...  59258.8  61174.9   \n",
       "2     NaN  0.974360  2021-03-14T23:34:31.722Z  ...  59258.8  61174.9   \n",
       "3     NaN  0.935538  2021-03-14T23:39:31.413Z  ...  59258.8  61174.9   \n",
       "4     NaN  0.922815  2021-03-14T23:44:31.704Z  ...  59258.8  61174.9   \n",
       "\n",
       "   percentage  previousClose   quoteVolume  redd_sent   symbol     timestamp  \\\n",
       "0         NaN            NaN  1.922725e+08   0.521747  BTC/USD  1.615764e+12   \n",
       "1         NaN            NaN  1.918609e+08   0.510972  BTC/USD  1.615765e+12   \n",
       "2         NaN            NaN  1.923922e+08   0.508851  BTC/USD  1.615765e+12   \n",
       "3         NaN            NaN  1.926364e+08   0.526616  BTC/USD  1.615765e+12   \n",
       "4         NaN            NaN  1.937058e+08   0.515635  BTC/USD  1.615765e+12   \n",
       "\n",
       "   twi_sent         vwap  \n",
       "0  0.192540  60437.15997  \n",
       "1  0.155409  60433.77015  \n",
       "2  0.169993  60431.11236  \n",
       "3  0.158870  60428.04756  \n",
       "4  0.133040  60422.18785  \n",
       "\n",
       "[5 rows x 22 columns]"
      ]
     },
     "execution_count": 1296,
     "metadata": {},
     "output_type": "execute_result"
    }
   ],
   "source": [
    "dataset.head()"
   ]
  },
  {
   "cell_type": "code",
   "execution_count": 5,
   "metadata": {},
   "outputs": [],
   "source": [
    "dataset['datetime'] = pd.to_datetime(dataset['datetime'],infer_datetime_format = True)"
   ]
  },
  {
   "cell_type": "code",
   "execution_count": 1175,
   "metadata": {},
   "outputs": [],
   "source": [
    "#This is function is designed to take live ticker data and shape it for our LSTM model.\n",
    "def live_ticker_shaper(dataset, scaler):\n",
    "    dataset['datetime'] = pd.to_datetime(dataset['datetime'],infer_datetime_format = True)\n",
    "    dataset.set_index(['datetime'],inplace = True)\n",
    "    data = dataset[['close','baseVolume','redd_sent','twi_sent']].copy()\n",
    "    #data = data.append(data[0,:])\n",
    "    print(data)\n",
    "    values = data.values\n",
    "    values = values.astype('float32')\n",
    "    #scaler = MinMaxScaler(feature_range=(0, 1))\n",
    "    scaled = scaler.transform(values)\n",
    "    print(scaled)\n",
    "    #reframed = series_to_supervised(scaled, 1, 1)\n",
    "    #reframed.drop(reframed.columns[[5,6,7]], axis=1, inplace=True)\n",
    "    return scaled #reframed.values"
   ]
  },
  {
   "cell_type": "code",
   "execution_count": null,
   "metadata": {
    "collapsed": true,
    "jupyter": {
     "outputs_hidden": true
    }
   },
   "outputs": [],
   "source": []
  },
  {
   "cell_type": "code",
   "execution_count": 1179,
   "metadata": {},
   "outputs": [
    {
     "data": {
      "text/html": [
       "<div>\n",
       "<style scoped>\n",
       "    .dataframe tbody tr th:only-of-type {\n",
       "        vertical-align: middle;\n",
       "    }\n",
       "\n",
       "    .dataframe tbody tr th {\n",
       "        vertical-align: top;\n",
       "    }\n",
       "\n",
       "    .dataframe thead th {\n",
       "        text-align: right;\n",
       "    }\n",
       "</style>\n",
       "<table border=\"1\" class=\"dataframe\">\n",
       "  <thead>\n",
       "    <tr style=\"text-align: right;\">\n",
       "      <th></th>\n",
       "      <th>Unnamed: 0</th>\n",
       "      <th>ask</th>\n",
       "      <th>askVolume</th>\n",
       "      <th>average</th>\n",
       "      <th>baseVolume</th>\n",
       "      <th>bid</th>\n",
       "      <th>bidVolume</th>\n",
       "      <th>change</th>\n",
       "      <th>close</th>\n",
       "      <th>datetime</th>\n",
       "      <th>...</th>\n",
       "      <th>low</th>\n",
       "      <th>open</th>\n",
       "      <th>percentage</th>\n",
       "      <th>previousClose</th>\n",
       "      <th>quoteVolume</th>\n",
       "      <th>redd_sent</th>\n",
       "      <th>symbol</th>\n",
       "      <th>timestamp</th>\n",
       "      <th>twi_sent</th>\n",
       "      <th>vwap</th>\n",
       "    </tr>\n",
       "  </thead>\n",
       "  <tbody>\n",
       "    <tr>\n",
       "      <th>0</th>\n",
       "      <td>0</td>\n",
       "      <td>60575.8</td>\n",
       "      <td>NaN</td>\n",
       "      <td>NaN</td>\n",
       "      <td>3181.362949</td>\n",
       "      <td>60575.7</td>\n",
       "      <td>NaN</td>\n",
       "      <td>NaN</td>\n",
       "      <td>60575.8</td>\n",
       "      <td>2021-03-14 23:24:31.515000+00:00</td>\n",
       "      <td>...</td>\n",
       "      <td>59258.8</td>\n",
       "      <td>61174.9</td>\n",
       "      <td>NaN</td>\n",
       "      <td>NaN</td>\n",
       "      <td>1.922725e+08</td>\n",
       "      <td>0.521747</td>\n",
       "      <td>BTC/USD</td>\n",
       "      <td>1.615764e+12</td>\n",
       "      <td>0.192540</td>\n",
       "      <td>60437.15997</td>\n",
       "    </tr>\n",
       "    <tr>\n",
       "      <th>1</th>\n",
       "      <td>1</td>\n",
       "      <td>60479.3</td>\n",
       "      <td>NaN</td>\n",
       "      <td>NaN</td>\n",
       "      <td>3174.729925</td>\n",
       "      <td>60470.4</td>\n",
       "      <td>NaN</td>\n",
       "      <td>NaN</td>\n",
       "      <td>60472.4</td>\n",
       "      <td>2021-03-14 23:29:31.235000+00:00</td>\n",
       "      <td>...</td>\n",
       "      <td>59258.8</td>\n",
       "      <td>61174.9</td>\n",
       "      <td>NaN</td>\n",
       "      <td>NaN</td>\n",
       "      <td>1.918609e+08</td>\n",
       "      <td>0.510972</td>\n",
       "      <td>BTC/USD</td>\n",
       "      <td>1.615765e+12</td>\n",
       "      <td>0.155409</td>\n",
       "      <td>60433.77015</td>\n",
       "    </tr>\n",
       "    <tr>\n",
       "      <th>2</th>\n",
       "      <td>2</td>\n",
       "      <td>60391.2</td>\n",
       "      <td>NaN</td>\n",
       "      <td>NaN</td>\n",
       "      <td>3183.662191</td>\n",
       "      <td>60391.1</td>\n",
       "      <td>NaN</td>\n",
       "      <td>NaN</td>\n",
       "      <td>60391.2</td>\n",
       "      <td>2021-03-14 23:34:31.722000+00:00</td>\n",
       "      <td>...</td>\n",
       "      <td>59258.8</td>\n",
       "      <td>61174.9</td>\n",
       "      <td>NaN</td>\n",
       "      <td>NaN</td>\n",
       "      <td>1.923922e+08</td>\n",
       "      <td>0.508851</td>\n",
       "      <td>BTC/USD</td>\n",
       "      <td>1.615765e+12</td>\n",
       "      <td>0.169993</td>\n",
       "      <td>60431.11236</td>\n",
       "    </tr>\n",
       "    <tr>\n",
       "      <th>3</th>\n",
       "      <td>3</td>\n",
       "      <td>60122.9</td>\n",
       "      <td>NaN</td>\n",
       "      <td>NaN</td>\n",
       "      <td>3187.864044</td>\n",
       "      <td>60117.8</td>\n",
       "      <td>NaN</td>\n",
       "      <td>NaN</td>\n",
       "      <td>60111.7</td>\n",
       "      <td>2021-03-14 23:39:31.413000+00:00</td>\n",
       "      <td>...</td>\n",
       "      <td>59258.8</td>\n",
       "      <td>61174.9</td>\n",
       "      <td>NaN</td>\n",
       "      <td>NaN</td>\n",
       "      <td>1.926364e+08</td>\n",
       "      <td>0.526616</td>\n",
       "      <td>BTC/USD</td>\n",
       "      <td>1.615765e+12</td>\n",
       "      <td>0.158870</td>\n",
       "      <td>60428.04756</td>\n",
       "    </tr>\n",
       "    <tr>\n",
       "      <th>4</th>\n",
       "      <td>4</td>\n",
       "      <td>60011.8</td>\n",
       "      <td>NaN</td>\n",
       "      <td>NaN</td>\n",
       "      <td>3205.871977</td>\n",
       "      <td>60008.7</td>\n",
       "      <td>NaN</td>\n",
       "      <td>NaN</td>\n",
       "      <td>60020.1</td>\n",
       "      <td>2021-03-14 23:44:31.704000+00:00</td>\n",
       "      <td>...</td>\n",
       "      <td>59258.8</td>\n",
       "      <td>61174.9</td>\n",
       "      <td>NaN</td>\n",
       "      <td>NaN</td>\n",
       "      <td>1.937058e+08</td>\n",
       "      <td>0.515635</td>\n",
       "      <td>BTC/USD</td>\n",
       "      <td>1.615765e+12</td>\n",
       "      <td>0.133040</td>\n",
       "      <td>60422.18785</td>\n",
       "    </tr>\n",
       "  </tbody>\n",
       "</table>\n",
       "<p>5 rows × 22 columns</p>\n",
       "</div>"
      ],
      "text/plain": [
       "   Unnamed: 0      ask  askVolume  average   baseVolume      bid  bidVolume  \\\n",
       "0           0  60575.8        NaN      NaN  3181.362949  60575.7        NaN   \n",
       "1           1  60479.3        NaN      NaN  3174.729925  60470.4        NaN   \n",
       "2           2  60391.2        NaN      NaN  3183.662191  60391.1        NaN   \n",
       "3           3  60122.9        NaN      NaN  3187.864044  60117.8        NaN   \n",
       "4           4  60011.8        NaN      NaN  3205.871977  60008.7        NaN   \n",
       "\n",
       "   change    close                         datetime  ...      low     open  \\\n",
       "0     NaN  60575.8 2021-03-14 23:24:31.515000+00:00  ...  59258.8  61174.9   \n",
       "1     NaN  60472.4 2021-03-14 23:29:31.235000+00:00  ...  59258.8  61174.9   \n",
       "2     NaN  60391.2 2021-03-14 23:34:31.722000+00:00  ...  59258.8  61174.9   \n",
       "3     NaN  60111.7 2021-03-14 23:39:31.413000+00:00  ...  59258.8  61174.9   \n",
       "4     NaN  60020.1 2021-03-14 23:44:31.704000+00:00  ...  59258.8  61174.9   \n",
       "\n",
       "   percentage  previousClose   quoteVolume  redd_sent   symbol     timestamp  \\\n",
       "0         NaN            NaN  1.922725e+08   0.521747  BTC/USD  1.615764e+12   \n",
       "1         NaN            NaN  1.918609e+08   0.510972  BTC/USD  1.615765e+12   \n",
       "2         NaN            NaN  1.923922e+08   0.508851  BTC/USD  1.615765e+12   \n",
       "3         NaN            NaN  1.926364e+08   0.526616  BTC/USD  1.615765e+12   \n",
       "4         NaN            NaN  1.937058e+08   0.515635  BTC/USD  1.615765e+12   \n",
       "\n",
       "   twi_sent         vwap  \n",
       "0  0.192540  60437.15997  \n",
       "1  0.155409  60433.77015  \n",
       "2  0.169993  60431.11236  \n",
       "3  0.158870  60428.04756  \n",
       "4  0.133040  60422.18785  \n",
       "\n",
       "[5 rows x 22 columns]"
      ]
     },
     "execution_count": 1179,
     "metadata": {},
     "output_type": "execute_result"
    }
   ],
   "source": [
    "dataset.head()"
   ]
  },
  {
   "cell_type": "code",
   "execution_count": 6,
   "metadata": {},
   "outputs": [],
   "source": [
    "dataset.set_index(['datetime'],inplace = True)"
   ]
  },
  {
   "cell_type": "code",
   "execution_count": 7,
   "metadata": {},
   "outputs": [],
   "source": [
    "data = dataset[['close','baseVolume','redd_sent','twi_sent']].copy()"
   ]
  },
  {
   "cell_type": "code",
   "execution_count": 1237,
   "metadata": {},
   "outputs": [],
   "source": [
    "#data = data.head(5).copy()"
   ]
  },
  {
   "cell_type": "code",
   "execution_count": 8,
   "metadata": {},
   "outputs": [],
   "source": [
    "# convert series to supervised learning\n",
    "###https://machinelearningmastery.com/multivariate-time-series-forecasting-lstms-keras/\n",
    "def series_to_supervised(data, n_in=1, n_out=1, dropnan=True):\n",
    "\tn_vars = 1 if type(data) is list else data.shape[1]\n",
    "\tdf = pd.DataFrame(data)\n",
    "\tcols, names = list(), list()\n",
    "\t# input sequence (t-n, ... t-1)\n",
    "\tfor i in range(n_in, 0, -1):\n",
    "\t\tcols.append(df.shift(i))\n",
    "\t\tnames += [('var%d(t-%d)' % (j+1, i)) for j in range(n_vars)]\n",
    "\t# forecast sequence (t, t+1, ... t+n)\n",
    "\tfor i in range(0, n_out):\n",
    "\t\tcols.append(df.shift(-i))\n",
    "\t\tif i == 0:\n",
    "\t\t\tnames += [('var%d(t)' % (j+1)) for j in range(n_vars)]\n",
    "\t\telse:\n",
    "\t\t\tnames += [('var%d(t+%d)' % (j+1, i)) for j in range(n_vars)]\n",
    "\t# put it all together\n",
    "\tagg = pd.concat(cols, axis=1)\n",
    "\tagg.columns = names\n",
    "\t# drop rows with NaN values\n",
    "\tif dropnan:\n",
    "\t\tagg.dropna(inplace=True)\n",
    "\treturn agg"
   ]
  },
  {
   "cell_type": "code",
   "execution_count": 9,
   "metadata": {},
   "outputs": [],
   "source": [
    "values = data.values"
   ]
  },
  {
   "cell_type": "code",
   "execution_count": 10,
   "metadata": {},
   "outputs": [],
   "source": [
    "values = values.astype('float32')"
   ]
  },
  {
   "cell_type": "code",
   "execution_count": 1241,
   "metadata": {},
   "outputs": [
    {
     "name": "stdout",
     "output_type": "stream",
     "text": [
      "[[6.0575801e+04 3.1813630e+03 5.2174652e-01 1.9253980e-01]\n",
      " [6.0472398e+04 3.1747300e+03 5.1097208e-01 1.5540920e-01]\n",
      " [6.0391199e+04 3.1836621e+03 5.0885117e-01 1.6999280e-01]\n",
      " ...\n",
      " [5.5625801e+04 6.1655117e+03 0.0000000e+00 2.0538241e-01]\n",
      " [5.5842102e+04 6.1573813e+03 0.0000000e+00 1.8075921e-01]\n",
      " [5.5703102e+04 6.1540493e+03 0.0000000e+00 2.0141780e-01]]\n"
     ]
    }
   ],
   "source": [
    "print(values)"
   ]
  },
  {
   "cell_type": "code",
   "execution_count": 1254,
   "metadata": {},
   "outputs": [],
   "source": [
    "#scaler = MinMaxScaler(feature_range=(0, 1))\n",
    "#scaled = scaler.fit_transform(values,y=values[:,0])\n",
    "#scaled.shapedataset['close'] = y_scaler.fit_transform(dataset['close'].values.reshape(-1,1))\n",
    "#vals = scaler.fit_transform(dataset['close'].values.reshape(-1,1))"
   ]
  },
  {
   "cell_type": "code",
   "execution_count": 11,
   "metadata": {},
   "outputs": [],
   "source": [
    "scaled = values"
   ]
  },
  {
   "cell_type": "code",
   "execution_count": 12,
   "metadata": {},
   "outputs": [],
   "source": [
    "reframed = series_to_supervised(scaled, 5, 1)"
   ]
  },
  {
   "cell_type": "code",
   "execution_count": 13,
   "metadata": {},
   "outputs": [
    {
     "data": {
      "text/html": [
       "<div>\n",
       "<style scoped>\n",
       "    .dataframe tbody tr th:only-of-type {\n",
       "        vertical-align: middle;\n",
       "    }\n",
       "\n",
       "    .dataframe tbody tr th {\n",
       "        vertical-align: top;\n",
       "    }\n",
       "\n",
       "    .dataframe thead th {\n",
       "        text-align: right;\n",
       "    }\n",
       "</style>\n",
       "<table border=\"1\" class=\"dataframe\">\n",
       "  <thead>\n",
       "    <tr style=\"text-align: right;\">\n",
       "      <th></th>\n",
       "      <th>var1(t-5)</th>\n",
       "      <th>var2(t-5)</th>\n",
       "      <th>var3(t-5)</th>\n",
       "      <th>var4(t-5)</th>\n",
       "      <th>var1(t-4)</th>\n",
       "      <th>var2(t-4)</th>\n",
       "      <th>var3(t-4)</th>\n",
       "      <th>var4(t-4)</th>\n",
       "      <th>var1(t-3)</th>\n",
       "      <th>var2(t-3)</th>\n",
       "      <th>...</th>\n",
       "      <th>var3(t-2)</th>\n",
       "      <th>var4(t-2)</th>\n",
       "      <th>var1(t-1)</th>\n",
       "      <th>var2(t-1)</th>\n",
       "      <th>var3(t-1)</th>\n",
       "      <th>var4(t-1)</th>\n",
       "      <th>var1(t)</th>\n",
       "      <th>var2(t)</th>\n",
       "      <th>var3(t)</th>\n",
       "      <th>var4(t)</th>\n",
       "    </tr>\n",
       "  </thead>\n",
       "  <tbody>\n",
       "    <tr>\n",
       "      <th>5</th>\n",
       "      <td>1.000000</td>\n",
       "      <td>0.001353</td>\n",
       "      <td>0.521747</td>\n",
       "      <td>0.192540</td>\n",
       "      <td>0.985638</td>\n",
       "      <td>0.000000</td>\n",
       "      <td>0.510972</td>\n",
       "      <td>0.155409</td>\n",
       "      <td>0.974360</td>\n",
       "      <td>0.001822</td>\n",
       "      <td>...</td>\n",
       "      <td>0.526616</td>\n",
       "      <td>0.158870</td>\n",
       "      <td>0.922815</td>\n",
       "      <td>0.006351</td>\n",
       "      <td>0.515635</td>\n",
       "      <td>0.133040</td>\n",
       "      <td>0.866756</td>\n",
       "      <td>0.010666</td>\n",
       "      <td>0.515635</td>\n",
       "      <td>0.130183</td>\n",
       "    </tr>\n",
       "    <tr>\n",
       "      <th>6</th>\n",
       "      <td>0.985638</td>\n",
       "      <td>0.000000</td>\n",
       "      <td>0.510972</td>\n",
       "      <td>0.155409</td>\n",
       "      <td>0.974360</td>\n",
       "      <td>0.001822</td>\n",
       "      <td>0.508851</td>\n",
       "      <td>0.169993</td>\n",
       "      <td>0.935538</td>\n",
       "      <td>0.002679</td>\n",
       "      <td>...</td>\n",
       "      <td>0.515635</td>\n",
       "      <td>0.133040</td>\n",
       "      <td>0.866756</td>\n",
       "      <td>0.010666</td>\n",
       "      <td>0.515635</td>\n",
       "      <td>0.130183</td>\n",
       "      <td>0.836685</td>\n",
       "      <td>0.015361</td>\n",
       "      <td>0.515635</td>\n",
       "      <td>0.107810</td>\n",
       "    </tr>\n",
       "    <tr>\n",
       "      <th>7</th>\n",
       "      <td>0.974360</td>\n",
       "      <td>0.001822</td>\n",
       "      <td>0.508851</td>\n",
       "      <td>0.169993</td>\n",
       "      <td>0.935538</td>\n",
       "      <td>0.002679</td>\n",
       "      <td>0.526616</td>\n",
       "      <td>0.158870</td>\n",
       "      <td>0.922815</td>\n",
       "      <td>0.006351</td>\n",
       "      <td>...</td>\n",
       "      <td>0.515635</td>\n",
       "      <td>0.130183</td>\n",
       "      <td>0.836685</td>\n",
       "      <td>0.015361</td>\n",
       "      <td>0.515635</td>\n",
       "      <td>0.107810</td>\n",
       "      <td>0.795766</td>\n",
       "      <td>0.039739</td>\n",
       "      <td>0.497583</td>\n",
       "      <td>0.147377</td>\n",
       "    </tr>\n",
       "    <tr>\n",
       "      <th>8</th>\n",
       "      <td>0.935538</td>\n",
       "      <td>0.002679</td>\n",
       "      <td>0.526616</td>\n",
       "      <td>0.158870</td>\n",
       "      <td>0.922815</td>\n",
       "      <td>0.006351</td>\n",
       "      <td>0.515635</td>\n",
       "      <td>0.133040</td>\n",
       "      <td>0.866756</td>\n",
       "      <td>0.010666</td>\n",
       "      <td>...</td>\n",
       "      <td>0.515635</td>\n",
       "      <td>0.107810</td>\n",
       "      <td>0.795766</td>\n",
       "      <td>0.039739</td>\n",
       "      <td>0.497583</td>\n",
       "      <td>0.147377</td>\n",
       "      <td>0.792488</td>\n",
       "      <td>0.056918</td>\n",
       "      <td>0.497583</td>\n",
       "      <td>0.130456</td>\n",
       "    </tr>\n",
       "    <tr>\n",
       "      <th>9</th>\n",
       "      <td>0.922815</td>\n",
       "      <td>0.006351</td>\n",
       "      <td>0.515635</td>\n",
       "      <td>0.133040</td>\n",
       "      <td>0.866756</td>\n",
       "      <td>0.010666</td>\n",
       "      <td>0.515635</td>\n",
       "      <td>0.130183</td>\n",
       "      <td>0.836685</td>\n",
       "      <td>0.015361</td>\n",
       "      <td>...</td>\n",
       "      <td>0.497583</td>\n",
       "      <td>0.147377</td>\n",
       "      <td>0.792488</td>\n",
       "      <td>0.056918</td>\n",
       "      <td>0.497583</td>\n",
       "      <td>0.130456</td>\n",
       "      <td>0.822810</td>\n",
       "      <td>0.058952</td>\n",
       "      <td>0.497583</td>\n",
       "      <td>0.151138</td>\n",
       "    </tr>\n",
       "  </tbody>\n",
       "</table>\n",
       "<p>5 rows × 24 columns</p>\n",
       "</div>"
      ],
      "text/plain": [
       "   var1(t-5)  var2(t-5)  var3(t-5)  var4(t-5)  var1(t-4)  var2(t-4)  \\\n",
       "5   1.000000   0.001353   0.521747   0.192540   0.985638   0.000000   \n",
       "6   0.985638   0.000000   0.510972   0.155409   0.974360   0.001822   \n",
       "7   0.974360   0.001822   0.508851   0.169993   0.935538   0.002679   \n",
       "8   0.935538   0.002679   0.526616   0.158870   0.922815   0.006351   \n",
       "9   0.922815   0.006351   0.515635   0.133040   0.866756   0.010666   \n",
       "\n",
       "   var3(t-4)  var4(t-4)  var1(t-3)  var2(t-3)  ...  var3(t-2)  var4(t-2)  \\\n",
       "5   0.510972   0.155409   0.974360   0.001822  ...   0.526616   0.158870   \n",
       "6   0.508851   0.169993   0.935538   0.002679  ...   0.515635   0.133040   \n",
       "7   0.526616   0.158870   0.922815   0.006351  ...   0.515635   0.130183   \n",
       "8   0.515635   0.133040   0.866756   0.010666  ...   0.515635   0.107810   \n",
       "9   0.515635   0.130183   0.836685   0.015361  ...   0.497583   0.147377   \n",
       "\n",
       "   var1(t-1)  var2(t-1)  var3(t-1)  var4(t-1)   var1(t)   var2(t)   var3(t)  \\\n",
       "5   0.922815   0.006351   0.515635   0.133040  0.866756  0.010666  0.515635   \n",
       "6   0.866756   0.010666   0.515635   0.130183  0.836685  0.015361  0.515635   \n",
       "7   0.836685   0.015361   0.515635   0.107810  0.795766  0.039739  0.497583   \n",
       "8   0.795766   0.039739   0.497583   0.147377  0.792488  0.056918  0.497583   \n",
       "9   0.792488   0.056918   0.497583   0.130456  0.822810  0.058952  0.497583   \n",
       "\n",
       "    var4(t)  \n",
       "5  0.130183  \n",
       "6  0.107810  \n",
       "7  0.147377  \n",
       "8  0.130456  \n",
       "9  0.151138  \n",
       "\n",
       "[5 rows x 24 columns]"
      ]
     },
     "execution_count": 13,
     "metadata": {},
     "output_type": "execute_result"
    }
   ],
   "source": [
    "reframed.head()"
   ]
  },
  {
   "cell_type": "code",
   "execution_count": 14,
   "metadata": {},
   "outputs": [
    {
     "name": "stdout",
     "output_type": "stream",
     "text": [
      "   var1(t-5)  var2(t-5)  var3(t-5)  var4(t-5)  var1(t-4)  var2(t-4)  \\\n",
      "5   1.000000   0.001353   0.521747   0.192540   0.985638   0.000000   \n",
      "6   0.985638   0.000000   0.510972   0.155409   0.974360   0.001822   \n",
      "7   0.974360   0.001822   0.508851   0.169993   0.935538   0.002679   \n",
      "8   0.935538   0.002679   0.526616   0.158870   0.922815   0.006351   \n",
      "9   0.922815   0.006351   0.515635   0.133040   0.866756   0.010666   \n",
      "\n",
      "   var3(t-4)  var4(t-4)  var1(t-3)  var2(t-3)  ...  var4(t-3)  var1(t-2)  \\\n",
      "5   0.510972   0.155409   0.974360   0.001822  ...   0.169993   0.935538   \n",
      "6   0.508851   0.169993   0.935538   0.002679  ...   0.158870   0.922815   \n",
      "7   0.526616   0.158870   0.922815   0.006351  ...   0.133040   0.866756   \n",
      "8   0.515635   0.133040   0.866756   0.010666  ...   0.130183   0.836685   \n",
      "9   0.515635   0.130183   0.836685   0.015361  ...   0.107810   0.795766   \n",
      "\n",
      "   var2(t-2)  var3(t-2)  var4(t-2)  var1(t-1)  var2(t-1)  var3(t-1)  \\\n",
      "5   0.002679   0.526616   0.158870   0.922815   0.006351   0.515635   \n",
      "6   0.006351   0.515635   0.133040   0.866756   0.010666   0.515635   \n",
      "7   0.010666   0.515635   0.130183   0.836685   0.015361   0.515635   \n",
      "8   0.015361   0.515635   0.107810   0.795766   0.039739   0.497583   \n",
      "9   0.039739   0.497583   0.147377   0.792488   0.056918   0.497583   \n",
      "\n",
      "   var4(t-1)   var1(t)  \n",
      "5   0.133040  0.866756  \n",
      "6   0.130183  0.836685  \n",
      "7   0.107810  0.795766  \n",
      "8   0.147377  0.792488  \n",
      "9   0.130456  0.822810  \n",
      "\n",
      "[5 rows x 21 columns]\n"
     ]
    }
   ],
   "source": [
    "reframed.drop(reframed.columns[[21,22,23]], axis=1, inplace=True) #4,8,12,16,20\n",
    "print(reframed.head())"
   ]
  },
  {
   "cell_type": "code",
   "execution_count": 15,
   "metadata": {},
   "outputs": [],
   "source": [
    "values_fin = reframed.values"
   ]
  },
  {
   "cell_type": "code",
   "execution_count": 16,
   "metadata": {},
   "outputs": [],
   "source": [
    "split = int(0.7 * len(values_fin))\n",
    "train = values_fin[:split,:]\n",
    "test = values_fin[split:,:]\n",
    "n_features = 4\n",
    "n_steps = 5"
   ]
  },
  {
   "cell_type": "code",
   "execution_count": 1194,
   "metadata": {},
   "outputs": [
    {
     "name": "stdout",
     "output_type": "stream",
     "text": [
      "[         nan          nan          nan          nan          nan\n",
      "          nan          nan          nan          nan          nan\n",
      "          nan          nan          nan          nan          nan\n",
      "          nan 6.057580e+04 3.181363e+03 5.217465e-01 1.925398e-01\n",
      " 6.047240e+04]\n"
     ]
    }
   ],
   "source": [
    "print(train[1])"
   ]
  },
  {
   "cell_type": "code",
   "execution_count": 1195,
   "metadata": {},
   "outputs": [
    {
     "name": "stdout",
     "output_type": "stream",
     "text": [
      "[5.4339102e+04 8.0264575e+03 0.0000000e+00 1.5256780e-01 5.4433602e+04\n",
      " 8.0309873e+03 0.0000000e+00 2.7061179e-01 5.4537301e+04 8.0511060e+03\n",
      " 0.0000000e+00 2.1856660e-01 5.4655898e+04 8.0770586e+03 0.0000000e+00\n",
      " 2.3331620e-01 5.4800000e+04 8.0780029e+03 0.0000000e+00 2.1272160e-01\n",
      " 5.4566199e+04]\n"
     ]
    }
   ],
   "source": [
    "print(test[0])"
   ]
  },
  {
   "cell_type": "code",
   "execution_count": 1196,
   "metadata": {},
   "outputs": [
    {
     "data": {
      "text/plain": [
       "(501, 21)"
      ]
     },
     "execution_count": 1196,
     "metadata": {},
     "output_type": "execute_result"
    }
   ],
   "source": [
    "values.shape"
   ]
  },
  {
   "cell_type": "code",
   "execution_count": 17,
   "metadata": {},
   "outputs": [
    {
     "name": "stdout",
     "output_type": "stream",
     "text": [
      "(347, 20) 347 (347,)\n"
     ]
    }
   ],
   "source": [
    "n_obs = n_steps * n_features\n",
    "train_X, train_y = train[:, :n_obs], train[:, -1]\n",
    "test_X, test_y = test[:, :n_obs], test[:, -1]\n",
    "print(train_X.shape, len(train_X), train_y.shape)"
   ]
  },
  {
   "cell_type": "code",
   "execution_count": 18,
   "metadata": {},
   "outputs": [],
   "source": [
    "#train_X, train_y = values[:, :n_obs], values[:, -1]\n",
    "#train_X.shape"
   ]
  },
  {
   "cell_type": "code",
   "execution_count": 19,
   "metadata": {},
   "outputs": [
    {
     "name": "stdout",
     "output_type": "stream",
     "text": [
      "(347, 5, 4) (347,) (149, 5, 4) (149,)\n"
     ]
    }
   ],
   "source": [
    "train_X = train_X.reshape((train_X.shape[0], n_steps, n_features))\n",
    "test_X = test_X.reshape((test_X.shape[0], n_steps, n_features))\n",
    "print(train_X.shape, train_y.shape, test_X.shape, test_y.shape)"
   ]
  },
  {
   "cell_type": "code",
   "execution_count": 20,
   "metadata": {},
   "outputs": [],
   "source": [
    "#train_y = train_y.reshape(347,1)"
   ]
  },
  {
   "cell_type": "code",
   "execution_count": 21,
   "metadata": {},
   "outputs": [],
   "source": [
    "#test_y = test_y.reshape(149,1)\n",
    "#model.fit_predict()"
   ]
  },
  {
   "cell_type": "code",
   "execution_count": 22,
   "metadata": {},
   "outputs": [],
   "source": [
    "from tensorflow.keras.layers import Flatten"
   ]
  },
  {
   "cell_type": "code",
   "execution_count": 23,
   "metadata": {},
   "outputs": [],
   "source": [
    "model = Sequential()\n",
    "model.add(LSTM(50, input_shape=(train_X.shape[1], train_X.shape[2]),return_sequences=True))\n",
    "model.add(Dropout(.2))\n",
    "model.add(LSTM(units=50))\n",
    "model.add(Dropout(.2))\n",
    "#model.add(LSTM(units=50, return_sequences=True))\n",
    "#model.add(Dropout(.2))\n",
    "#model.add(Flatten())\n",
    "model.add(Dense(1))\n",
    "#model.compile(loss='mae', optimizer='adam')\n",
    "model.compile(optimizer=\"adam\", loss=\"mean_squared_error\")"
   ]
  },
  {
   "cell_type": "code",
   "execution_count": 24,
   "metadata": {},
   "outputs": [],
   "source": [
    "###https://stackoverflow.com/questions/55422711/keras-training-progress-bar-on-one-line-with-epoch-number\n",
    "import tensorflow as tf\n",
    "class PrintLogs(tf.keras.callbacks.Callback):\n",
    "    def __init__(self, epochs):\n",
    "        self.epochs = epochs\n",
    "\n",
    "    def set_params(self, params):\n",
    "        params['epochs'] = 0\n",
    "        params['verbosity'] = 0\n",
    "\n",
    "    def on_epoch_begin(self, epoch, logs=None):\n",
    "        print('Epoch %d/%d' % (epoch + 1, self.epochs), end='\\r')\n",
    "    #def on_batch_begin(self, epoch, logs=None):\n",
    "       #print('~~~~~~~~~~~~~Training~~~~~~~~~~~~~~~~~~~~~~~~~~~~', end='\\r')"
   ]
  },
  {
   "cell_type": "code",
   "execution_count": 25,
   "metadata": {},
   "outputs": [
    {
     "name": "stdout",
     "output_type": "stream",
     "text": [
      "Epoch 1000/1000\r"
     ]
    }
   ],
   "source": [
    "epochs = 1000\n",
    "history = model.fit(train_X, train_y, epochs=epochs, validation_data = (test_X, test_y),\n",
    "                    batch_size=7, verbose=0, shuffle=False, callbacks=[PrintLogs(epochs)])"
   ]
  },
  {
   "cell_type": "code",
   "execution_count": 26,
   "metadata": {},
   "outputs": [
    {
     "data": {
      "image/png": "[encoded data removed]",
      "text/plain": [
       "<Figure size 432x288 with 1 Axes>"
      ]
     },
     "metadata": {
      "needs_background": "light"
     },
     "output_type": "display_data"
    }
   ],
   "source": [
    "pyplot.plot(history.history['loss'], label='train')\n",
    "pyplot.plot(history.history['val_loss'], label='test')\n",
    "pyplot.legend()\n",
    "pyplot.show()"
   ]
  },
  {
   "cell_type": "code",
   "execution_count": 27,
   "metadata": {},
   "outputs": [],
   "source": [
    "# make a prediction\n",
    "yhat = model.predict(test_X)"
   ]
  },
  {
   "cell_type": "code",
   "execution_count": 28,
   "metadata": {},
   "outputs": [],
   "source": [
    "yhat = yhat.reshape(-1,1)"
   ]
  },
  {
   "cell_type": "code",
   "execution_count": 29,
   "metadata": {},
   "outputs": [
    {
     "name": "stdout",
     "output_type": "stream",
     "text": [
      "5/5 [==============================] - 0s 3ms/step - loss: 7.1137e-04\n"
     ]
    },
    {
     "data": {
      "text/plain": [
       "0.0007113713072612882"
      ]
     },
     "execution_count": 29,
     "metadata": {},
     "output_type": "execute_result"
    }
   ],
   "source": [
    "model.evaluate(test_X, test_y, verbose=1)"
   ]
  },
  {
   "cell_type": "code",
   "execution_count": 30,
   "metadata": {},
   "outputs": [],
   "source": [
    "yhat = y_scaler.inverse_transform(yhat)"
   ]
  },
  {
   "cell_type": "code",
   "execution_count": 31,
   "metadata": {},
   "outputs": [],
   "source": [
    "yhat = yhat[:,0]"
   ]
  },
  {
   "cell_type": "code",
   "execution_count": 32,
   "metadata": {},
   "outputs": [],
   "source": [
    "#yhat = yhat.reshape(150,1)\n",
    "feat_cols = -1 * (n_features - 1)"
   ]
  },
  {
   "cell_type": "code",
   "execution_count": 33,
   "metadata": {},
   "outputs": [],
   "source": [
    "tested_X = test_X.reshape((test_X.shape[0], n_steps*n_features))"
   ]
  },
  {
   "cell_type": "code",
   "execution_count": 34,
   "metadata": {},
   "outputs": [],
   "source": [
    "#inv_yhat = np.concatenate((yhat, test_X[:, -3:]), axis=1)"
   ]
  },
  {
   "cell_type": "code",
   "execution_count": 35,
   "metadata": {},
   "outputs": [],
   "source": [
    "#inv_yhat = scaler.inverse_transform(inv_yhat)\n",
    "#inv_yhat = inv_yhat[:,0]"
   ]
  },
  {
   "cell_type": "code",
   "execution_count": 36,
   "metadata": {},
   "outputs": [],
   "source": [
    "from math import sqrt"
   ]
  },
  {
   "cell_type": "code",
   "execution_count": 37,
   "metadata": {},
   "outputs": [],
   "source": [
    "tested_y = y_scaler.inverse_transform(test_y.reshape(-1,1))\n",
    "tested_y=tested_y[:,0]"
   ]
  },
  {
   "cell_type": "code",
   "execution_count": 38,
   "metadata": {},
   "outputs": [
    {
     "name": "stdout",
     "output_type": "stream",
     "text": [
      "Test RMSE: 192.025\n"
     ]
    }
   ],
   "source": [
    "# invert scaling for actual\n",
    "#tested_y = y_scaler.inverse_transform(yhat)\n",
    "#inv_y = np.concatenate((test_y, test_X[:, feat_cols:]), axis=1)\n",
    "#inv_y = scaler.inverse_transform(inv_y)\n",
    "#inv_y = inv_y[:,0]\n",
    "# calculate RMSE\n",
    "rmse = sqrt(mean_squared_error(tested_y, yhat))\n",
    "print('Test RMSE: %.3f' % rmse)"
   ]
  },
  {
   "cell_type": "code",
   "execution_count": 1407,
   "metadata": {},
   "outputs": [
    {
     "data": {
      "text/plain": [
       "(151,)"
      ]
     },
     "execution_count": 1407,
     "metadata": {},
     "output_type": "execute_result"
    }
   ],
   "source": [
    "inv_yhat.shape"
   ]
  },
  {
   "cell_type": "code",
   "execution_count": 1423,
   "metadata": {},
   "outputs": [],
   "source": [
    "from tensorflow.keras.callbacks import Callback"
   ]
  },
  {
   "cell_type": "code",
   "execution_count": 1424,
   "metadata": {},
   "outputs": [],
   "source": [
    "class PrintLogs():\n",
    "    def __init__(self, epochs):\n",
    "        self.epochs = epochs\n",
    "\n",
    "    def set_params(self, params):\n",
    "        params['epochs'] = 0\n",
    "        params['verbosity'] = 0\n",
    "\n",
    "    def on_epoch_begin(self, epoch, logs=None):\n",
    "        print('Epoch %d/%d' % (epoch + 1, self.epochs), end='\\r')\n",
    "    #def on_batch_begin(self, epoch, logs=None):\n",
    "       #print('~~~~~~~~~~~~~Training~~~~~~~~~~~~~~~~~~~~~~~~~~~~', end='\\r')"
   ]
  },
  {
   "cell_type": "code",
   "execution_count": 39,
   "metadata": {},
   "outputs": [
    {
     "data": {
      "text/plain": [
       "<AxesSubplot:>"
      ]
     },
     "execution_count": 39,
     "metadata": {},
     "output_type": "execute_result"
    },
    {
     "data": {
      "image/png": "[encoded data removed]",
      "text/plain": [
       "<Figure size 432x288 with 1 Axes>"
      ]
     },
     "metadata": {
      "needs_background": "light"
     },
     "output_type": "display_data"
    }
   ],
   "source": [
    "results = {'Predicted':yhat ,'Actual':tested_y}\n",
    "df_results = pd.DataFrame(results)\n",
    "df_results.plot()"
   ]
  },
  {
   "cell_type": "code",
   "execution_count": 40,
   "metadata": {},
   "outputs": [
    {
     "data": {
      "text/html": [
       "<div>\n",
       "<style scoped>\n",
       "    .dataframe tbody tr th:only-of-type {\n",
       "        vertical-align: middle;\n",
       "    }\n",
       "\n",
       "    .dataframe tbody tr th {\n",
       "        vertical-align: top;\n",
       "    }\n",
       "\n",
       "    .dataframe thead th {\n",
       "        text-align: right;\n",
       "    }\n",
       "</style>\n",
       "<table border=\"1\" class=\"dataframe\">\n",
       "  <thead>\n",
       "    <tr style=\"text-align: right;\">\n",
       "      <th></th>\n",
       "      <th>Predicted</th>\n",
       "      <th>Actual</th>\n",
       "    </tr>\n",
       "  </thead>\n",
       "  <tbody>\n",
       "    <tr>\n",
       "      <th>144</th>\n",
       "      <td>55782.949219</td>\n",
       "      <td>55686.097656</td>\n",
       "    </tr>\n",
       "    <tr>\n",
       "      <th>145</th>\n",
       "      <td>55869.414062</td>\n",
       "      <td>55814.296875</td>\n",
       "    </tr>\n",
       "    <tr>\n",
       "      <th>146</th>\n",
       "      <td>56011.222656</td>\n",
       "      <td>55625.800781</td>\n",
       "    </tr>\n",
       "    <tr>\n",
       "      <th>147</th>\n",
       "      <td>55837.746094</td>\n",
       "      <td>55842.097656</td>\n",
       "    </tr>\n",
       "    <tr>\n",
       "      <th>148</th>\n",
       "      <td>55978.316406</td>\n",
       "      <td>55703.097656</td>\n",
       "    </tr>\n",
       "  </tbody>\n",
       "</table>\n",
       "</div>"
      ],
      "text/plain": [
       "        Predicted        Actual\n",
       "144  55782.949219  55686.097656\n",
       "145  55869.414062  55814.296875\n",
       "146  56011.222656  55625.800781\n",
       "147  55837.746094  55842.097656\n",
       "148  55978.316406  55703.097656"
      ]
     },
     "execution_count": 40,
     "metadata": {},
     "output_type": "execute_result"
    }
   ],
   "source": [
    "df_results.tail()"
   ]
  },
  {
   "cell_type": "code",
   "execution_count": 1422,
   "metadata": {},
   "outputs": [],
   "source": [
    "#model.save_weights(\"lstm_five_model.h5\")"
   ]
  },
  {
   "cell_type": "code",
   "execution_count": 686,
   "metadata": {},
   "outputs": [],
   "source": [
    "def generate_model(path = 'five_model.h5', train_X):\n",
    "    model = Sequential()\n",
    "    model.add(LSTM(50, input_shape=(train_X.shape[1], train_X.shape[2]),return_sequences=True))\n",
    "    model.add(Dropout(.2))\n",
    "    model.add(LSTM(units=50, return_sequences=True))\n",
    "    model.add(Dropout(.2))\n",
    "    #model.add(LSTM(units=50, return_sequences=True))\n",
    "    #model.add(Dropout(.2))\n",
    "    model.add(Dense(1))\n",
    "    #model.compile(loss='mae', optimizer='adam')\n",
    "    model.compile(optimizer=\"adam\", loss=\"mean_squared_error\")\n",
    "    model.load_weights(path)\n",
    "    return model"
   ]
  },
  {
   "cell_type": "code",
   "execution_count": 802,
   "metadata": {},
   "outputs": [],
   "source": [
    "madel = generate_model()"
   ]
  },
  {
   "cell_type": "code",
   "execution_count": 857,
   "metadata": {},
   "outputs": [
    {
     "data": {
      "text/plain": [
       "(150, 4)"
      ]
     },
     "execution_count": 857,
     "metadata": {},
     "output_type": "execute_result"
    }
   ],
   "source": [
    "test_X.shape"
   ]
  },
  {
   "cell_type": "code",
   "execution_count": 901,
   "metadata": {},
   "outputs": [],
   "source": [
    "b.shape"
   ]
  },
  {
   "cell_type": "code",
   "execution_count": 902,
   "metadata": {},
   "outputs": [
    {
     "data": {
      "text/plain": [
       "array([[0.3255188]], dtype=float32)"
      ]
     },
     "execution_count": 902,
     "metadata": {},
     "output_type": "execute_result"
    }
   ],
   "source": [
    "pre_df"
   ]
  },
  {
   "cell_type": "code",
   "execution_count": 904,
   "metadata": {},
   "outputs": [
    {
     "data": {
      "text/plain": [
       "array([[0. , 0.9, 0.9]], dtype=float32)"
      ]
     },
     "execution_count": 904,
     "metadata": {},
     "output_type": "execute_result"
    }
   ],
   "source": [
    "z =np.array([[0.9,0.9,0.9]],dtype='float32')\n",
    "z"
   ]
  },
  {
   "cell_type": "code",
   "execution_count": 908,
   "metadata": {},
   "outputs": [],
   "source": [
    "pre_df = np.concatenate((pre_df, z),axis=1)"
   ]
  },
  {
   "cell_type": "code",
   "execution_count": 849,
   "metadata": {},
   "outputs": [],
   "source": [
    "a = test_df.reshape(1,1,4)\n",
    "b = test_df[:,0]"
   ]
  },
  {
   "cell_type": "code",
   "execution_count": 818,
   "metadata": {},
   "outputs": [],
   "source": [
    "def live_fitter(model, train_X, train_y):\n",
    "    model.fit(train_X, train_y, epochs=50, batch_size=1, verbose=1, shuffle=False)"
   ]
  },
  {
   "cell_type": "code",
   "execution_count": 850,
   "metadata": {
    "collapsed": true,
    "jupyter": {
     "outputs_hidden": true
    }
   },
   "outputs": [
    {
     "name": "stdout",
     "output_type": "stream",
     "text": [
      "Train on 1 samples\n",
      "Epoch 1/50\n",
      "1/1 [==============================] - 0s 10ms/sample - loss: 3.6630e-04\n",
      "Epoch 2/50\n",
      "1/1 [==============================] - 0s 4ms/sample - loss: 2.8182e-04\n",
      "Epoch 3/50\n",
      "1/1 [==============================] - 0s 4ms/sample - loss: 0.0017\n",
      "Epoch 4/50\n",
      "1/1 [==============================] - 0s 5ms/sample - loss: 1.9460e-04\n",
      "Epoch 5/50\n",
      "1/1 [==============================] - 0s 5ms/sample - loss: 4.4848e-04\n",
      "Epoch 6/50\n",
      "1/1 [==============================] - 0s 5ms/sample - loss: 1.5976e-04\n",
      "Epoch 7/50\n",
      "1/1 [==============================] - 0s 6ms/sample - loss: 1.5490e-05\n",
      "Epoch 8/50\n",
      "1/1 [==============================] - 0s 5ms/sample - loss: 9.5652e-04\n",
      "Epoch 9/50\n",
      "1/1 [==============================] - 0s 5ms/sample - loss: 0.0034\n",
      "Epoch 10/50\n",
      "1/1 [==============================] - 0s 5ms/sample - loss: 1.8796e-05\n",
      "Epoch 11/50\n",
      "1/1 [==============================] - 0s 5ms/sample - loss: 6.9560e-04\n",
      "Epoch 12/50\n",
      "1/1 [==============================] - 0s 4ms/sample - loss: 1.5413e-06\n",
      "Epoch 13/50\n",
      "1/1 [==============================] - 0s 5ms/sample - loss: 2.6389e-04\n",
      "Epoch 14/50\n",
      "1/1 [==============================] - 0s 6ms/sample - loss: 5.8058e-05\n",
      "Epoch 15/50\n",
      "1/1 [==============================] - 0s 5ms/sample - loss: 3.8966e-04\n",
      "Epoch 16/50\n",
      "1/1 [==============================] - 0s 5ms/sample - loss: 4.0238e-04\n",
      "Epoch 17/50\n",
      "1/1 [==============================] - 0s 5ms/sample - loss: 1.6137e-04\n",
      "Epoch 18/50\n",
      "1/1 [==============================] - 0s 6ms/sample - loss: 1.0878e-05\n",
      "Epoch 19/50\n",
      "1/1 [==============================] - 0s 4ms/sample - loss: 2.2214e-04\n",
      "Epoch 20/50\n",
      "1/1 [==============================] - 0s 5ms/sample - loss: 1.1440e-05\n",
      "Epoch 21/50\n",
      "1/1 [==============================] - 0s 5ms/sample - loss: 2.0703e-06\n",
      "Epoch 22/50\n",
      "1/1 [==============================] - 0s 5ms/sample - loss: 1.3515e-04\n",
      "Epoch 23/50\n",
      "1/1 [==============================] - 0s 5ms/sample - loss: 3.5343e-04\n",
      "Epoch 24/50\n",
      "1/1 [==============================] - 0s 5ms/sample - loss: 4.8751e-05\n",
      "Epoch 25/50\n",
      "1/1 [==============================] - 0s 5ms/sample - loss: 8.2330e-04\n",
      "Epoch 26/50\n",
      "1/1 [==============================] - 0s 4ms/sample - loss: 4.6625e-04\n",
      "Epoch 27/50\n",
      "1/1 [==============================] - 0s 5ms/sample - loss: 1.5148e-05\n",
      "Epoch 28/50\n",
      "1/1 [==============================] - 0s 5ms/sample - loss: 5.9572e-05\n",
      "Epoch 29/50\n",
      "1/1 [==============================] - 0s 6ms/sample - loss: 5.5561e-04\n",
      "Epoch 30/50\n",
      "1/1 [==============================] - 0s 6ms/sample - loss: 2.6937e-04\n",
      "Epoch 31/50\n",
      "1/1 [==============================] - 0s 5ms/sample - loss: 1.4960e-04\n",
      "Epoch 32/50\n",
      "1/1 [==============================] - 0s 5ms/sample - loss: 5.8016e-04\n",
      "Epoch 33/50\n",
      "1/1 [==============================] - 0s 5ms/sample - loss: 2.1376e-04\n",
      "Epoch 34/50\n",
      "1/1 [==============================] - 0s 4ms/sample - loss: 5.0403e-04\n",
      "Epoch 35/50\n",
      "1/1 [==============================] - 0s 4ms/sample - loss: 2.2430e-05\n",
      "Epoch 36/50\n",
      "1/1 [==============================] - 0s 6ms/sample - loss: 2.1149e-04\n",
      "Epoch 37/50\n",
      "1/1 [==============================] - 0s 5ms/sample - loss: 3.7570e-04\n",
      "Epoch 38/50\n",
      "1/1 [==============================] - 0s 4ms/sample - loss: 2.0892e-04\n",
      "Epoch 39/50\n",
      "1/1 [==============================] - 0s 5ms/sample - loss: 0.0010\n",
      "Epoch 40/50\n",
      "1/1 [==============================] - 0s 5ms/sample - loss: 5.1049e-05\n",
      "Epoch 41/50\n",
      "1/1 [==============================] - 0s 5ms/sample - loss: 0.0011\n",
      "Epoch 42/50\n",
      "1/1 [==============================] - 0s 4ms/sample - loss: 3.4060e-06\n",
      "Epoch 43/50\n",
      "1/1 [==============================] - 0s 5ms/sample - loss: 2.9639e-04\n",
      "Epoch 44/50\n",
      "1/1 [==============================] - 0s 6ms/sample - loss: 1.2440e-04\n",
      "Epoch 45/50\n",
      "1/1 [==============================] - 0s 5ms/sample - loss: 3.1923e-04\n",
      "Epoch 46/50\n",
      "1/1 [==============================] - 0s 6ms/sample - loss: 1.7254e-05\n",
      "Epoch 47/50\n",
      "1/1 [==============================] - 0s 5ms/sample - loss: 1.4233e-05\n",
      "Epoch 48/50\n",
      "1/1 [==============================] - 0s 6ms/sample - loss: 5.1921e-06\n",
      "Epoch 49/50\n",
      "1/1 [==============================] - 0s 5ms/sample - loss: 2.9491e-04\n",
      "Epoch 50/50\n",
      "1/1 [==============================] - 0s 4ms/sample - loss: 0.0034\n"
     ]
    }
   ],
   "source": [
    "one_live = live_fitter(madel, a,  b)"
   ]
  },
  {
   "cell_type": "code",
   "execution_count": 895,
   "metadata": {},
   "outputs": [],
   "source": [
    "test_df = test_df.reshape(1, 1,4)\n",
    "pre_df = madel.predict(test_df)"
   ]
  },
  {
   "cell_type": "code",
   "execution_count": 896,
   "metadata": {},
   "outputs": [
    {
     "data": {
      "text/plain": [
       "(1, 1, 1)"
      ]
     },
     "execution_count": 896,
     "metadata": {},
     "output_type": "execute_result"
    }
   ],
   "source": [
    "pre_df.shape"
   ]
  },
  {
   "cell_type": "code",
   "execution_count": 897,
   "metadata": {},
   "outputs": [],
   "source": [
    "pre_df = pre_df.reshape(1,1)"
   ]
  },
  {
   "cell_type": "code",
   "execution_count": 909,
   "metadata": {},
   "outputs": [],
   "source": [
    "inv_tex = scaler.inverse_transform(pre_df)"
   ]
  },
  {
   "cell_type": "code",
   "execution_count": 910,
   "metadata": {},
   "outputs": [
    {
     "name": "stdout",
     "output_type": "stream",
     "text": [
      "[55719.8]\n"
     ]
    }
   ],
   "source": [
    "print(inv_tex[:,0])"
   ]
  },
  {
   "cell_type": "code",
   "execution_count": null,
   "metadata": {},
   "outputs": [],
   "source": []
  }
 ],
 "metadata": {
  "kernelspec": {
   "display_name": "Python 3",
   "language": "python",
   "name": "python3"
  },
  "language_info": {
   "codemirror_mode": {
    "name": "ipython",
    "version": 3
   },
   "file_extension": ".py",
   "mimetype": "text/x-python",
   "name": "python",
   "nbconvert_exporter": "python",
   "pygments_lexer": "ipython3",
   "version": "3.7.9"
  }
 },
 "nbformat": 4,
 "nbformat_minor": 4
}

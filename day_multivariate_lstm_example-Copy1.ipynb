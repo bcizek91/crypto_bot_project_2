{
 "cells": [
  {
   "cell_type": "code",
   "execution_count": 2,
   "metadata": {},
   "outputs": [
    {
     "name": "stderr",
     "output_type": "stream",
     "text": [
      "\n",
      "Bad key \"text.kerning_factor\" on line 4 in\n",
      "C:\\Users\\mnewk\\anaconda3\\envs\\pyvizenv\\lib\\site-packages\\matplotlib\\mpl-data\\stylelib\\_classic_test_patch.mplstyle.\n",
      "You probably need to get an updated matplotlibrc file from\n",
      "http://github.com/matplotlib/matplotlib/blob/master/matplotlibrc.template\n",
      "or from the matplotlib source distribution\n"
     ]
    }
   ],
   "source": [
    "#This code heavily references code =used for the following tutorial article:\n",
    "###https://machinelearningmastery.com/multivariate-time-series-forecasting-lstms-keras/\n",
    "\n",
    "\n",
    "import numpy as np\n",
    "import pandas as pd\n",
    "from matplotlib import pyplot\n",
    "from sklearn.preprocessing import MinMaxScaler\n",
    "from sklearn.metrics import mean_squared_error\n",
    "from tensorflow.keras.models import Sequential\n",
    "from tensorflow.keras.layers import LSTM, Dense, Dropout\n",
    "pd.set_option('display.max_columns', None)\n",
    "pd.set_option(\"max_rows\", None)"
   ]
  },
  {
   "cell_type": "code",
   "execution_count": 3,
   "metadata": {},
   "outputs": [],
   "source": [
    "dataset = pd.read_csv('data/BTC_Signals.csv')"
   ]
  },
  {
   "cell_type": "code",
   "execution_count": 604,
   "metadata": {},
   "outputs": [
    {
     "name": "stdout",
     "output_type": "stream",
     "text": [
      "                                    close   baseVolume  redd_sent  twi_sent\n",
      "datetime                                                                   \n",
      "2021-03-16 17:06:35.090000+00:00  55703.1  6154.049106        0.0  0.201418\n",
      "[[0.3231988 0.6076185 0.        0.489654 ]]\n"
     ]
    }
   ],
   "source": [
    "test_df = live_ticker_shaper(tester, scaler)"
   ]
  },
  {
   "cell_type": "code",
   "execution_count": 37,
   "metadata": {},
   "outputs": [
    {
     "data": {
      "text/html": [
       "<div>\n",
       "<style scoped>\n",
       "    .dataframe tbody tr th:only-of-type {\n",
       "        vertical-align: middle;\n",
       "    }\n",
       "\n",
       "    .dataframe tbody tr th {\n",
       "        vertical-align: top;\n",
       "    }\n",
       "\n",
       "    .dataframe thead th {\n",
       "        text-align: right;\n",
       "    }\n",
       "</style>\n",
       "<table border=\"1\" class=\"dataframe\">\n",
       "  <thead>\n",
       "    <tr style=\"text-align: right;\">\n",
       "      <th></th>\n",
       "      <th>Open</th>\n",
       "      <th>High</th>\n",
       "      <th>Low</th>\n",
       "      <th>Close</th>\n",
       "      <th>Adj Close</th>\n",
       "      <th>Volume</th>\n",
       "      <th>Circulating Supply</th>\n",
       "      <th>Max Supply</th>\n",
       "      <th>Supply Ratio</th>\n",
       "      <th>Volume Supply Ratio</th>\n",
       "      <th>Volume Close Ratio</th>\n",
       "      <th>nupl_ratio</th>\n",
       "      <th>mvrv_ratio</th>\n",
       "      <th>SMA50_close</th>\n",
       "      <th>SMA100_close</th>\n",
       "      <th>SMA50_supply</th>\n",
       "      <th>SMA100_suppy</th>\n",
       "      <th>bollinger_mid_band_close</th>\n",
       "      <th>bollinger_std_close</th>\n",
       "      <th>bollinger_mid_band_supply</th>\n",
       "      <th>bollinger_std_supply</th>\n",
       "      <th>bollinger_upper_band_close</th>\n",
       "      <th>bollinger_lower_band_close</th>\n",
       "      <th>fast_close</th>\n",
       "      <th>slow_close</th>\n",
       "      <th>fast_supply</th>\n",
       "      <th>slow_supply</th>\n",
       "      <th>crossover_long_close</th>\n",
       "      <th>crossover_short_close</th>\n",
       "      <th>crossover_signal_close</th>\n",
       "      <th>crossover_long_supply</th>\n",
       "      <th>crossover_short_supply</th>\n",
       "      <th>crossover_signal_supply</th>\n",
       "      <th>mvrv_signal</th>\n",
       "      <th>nupl_signal</th>\n",
       "    </tr>\n",
       "    <tr>\n",
       "      <th>Date</th>\n",
       "      <th></th>\n",
       "      <th></th>\n",
       "      <th></th>\n",
       "      <th></th>\n",
       "      <th></th>\n",
       "      <th></th>\n",
       "      <th></th>\n",
       "      <th></th>\n",
       "      <th></th>\n",
       "      <th></th>\n",
       "      <th></th>\n",
       "      <th></th>\n",
       "      <th></th>\n",
       "      <th></th>\n",
       "      <th></th>\n",
       "      <th></th>\n",
       "      <th></th>\n",
       "      <th></th>\n",
       "      <th></th>\n",
       "      <th></th>\n",
       "      <th></th>\n",
       "      <th></th>\n",
       "      <th></th>\n",
       "      <th></th>\n",
       "      <th></th>\n",
       "      <th></th>\n",
       "      <th></th>\n",
       "      <th></th>\n",
       "      <th></th>\n",
       "      <th></th>\n",
       "      <th></th>\n",
       "      <th></th>\n",
       "      <th></th>\n",
       "      <th></th>\n",
       "      <th></th>\n",
       "    </tr>\n",
       "  </thead>\n",
       "  <tbody>\n",
       "    <tr>\n",
       "      <th>2014-09-17</th>\n",
       "      <td>465.864014</td>\n",
       "      <td>468.174011</td>\n",
       "      <td>452.421997</td>\n",
       "      <td>457.334015</td>\n",
       "      <td>457.334015</td>\n",
       "      <td>21056800.0</td>\n",
       "      <td>13280850.0</td>\n",
       "      <td>21000000.0</td>\n",
       "      <td>63.242143</td>\n",
       "      <td>1.585501</td>\n",
       "      <td>46042.496970</td>\n",
       "      <td>0.215017</td>\n",
       "      <td>0.446781</td>\n",
       "      <td>NaN</td>\n",
       "      <td>NaN</td>\n",
       "      <td>NaN</td>\n",
       "      <td>NaN</td>\n",
       "      <td>NaN</td>\n",
       "      <td>NaN</td>\n",
       "      <td>NaN</td>\n",
       "      <td>NaN</td>\n",
       "      <td>NaN</td>\n",
       "      <td>NaN</td>\n",
       "      <td>457.334015</td>\n",
       "      <td>457.334015</td>\n",
       "      <td>63.242143</td>\n",
       "      <td>63.242143</td>\n",
       "      <td>0.0</td>\n",
       "      <td>0.0</td>\n",
       "      <td>0.0</td>\n",
       "      <td>0.0</td>\n",
       "      <td>0.0</td>\n",
       "      <td>0.0</td>\n",
       "      <td>0</td>\n",
       "      <td>0</td>\n",
       "    </tr>\n",
       "    <tr>\n",
       "      <th>2014-09-18</th>\n",
       "      <td>456.859985</td>\n",
       "      <td>456.859985</td>\n",
       "      <td>413.104004</td>\n",
       "      <td>424.440002</td>\n",
       "      <td>424.440002</td>\n",
       "      <td>34483200.0</td>\n",
       "      <td>13280850.0</td>\n",
       "      <td>21000000.0</td>\n",
       "      <td>63.242143</td>\n",
       "      <td>2.596460</td>\n",
       "      <td>81243.991701</td>\n",
       "      <td>0.170461</td>\n",
       "      <td>0.330261</td>\n",
       "      <td>NaN</td>\n",
       "      <td>NaN</td>\n",
       "      <td>NaN</td>\n",
       "      <td>NaN</td>\n",
       "      <td>NaN</td>\n",
       "      <td>NaN</td>\n",
       "      <td>NaN</td>\n",
       "      <td>NaN</td>\n",
       "      <td>NaN</td>\n",
       "      <td>NaN</td>\n",
       "      <td>440.479942</td>\n",
       "      <td>440.683444</td>\n",
       "      <td>63.242143</td>\n",
       "      <td>63.242143</td>\n",
       "      <td>0.0</td>\n",
       "      <td>-1.0</td>\n",
       "      <td>-1.0</td>\n",
       "      <td>0.0</td>\n",
       "      <td>0.0</td>\n",
       "      <td>0.0</td>\n",
       "      <td>0</td>\n",
       "      <td>0</td>\n",
       "    </tr>\n",
       "    <tr>\n",
       "      <th>2014-09-19</th>\n",
       "      <td>424.102997</td>\n",
       "      <td>427.834991</td>\n",
       "      <td>384.532013</td>\n",
       "      <td>394.795990</td>\n",
       "      <td>394.795990</td>\n",
       "      <td>37919700.0</td>\n",
       "      <td>13280850.0</td>\n",
       "      <td>21000000.0</td>\n",
       "      <td>63.242143</td>\n",
       "      <td>2.855216</td>\n",
       "      <td>96048.847913</td>\n",
       "      <td>0.110795</td>\n",
       "      <td>0.196148</td>\n",
       "      <td>NaN</td>\n",
       "      <td>NaN</td>\n",
       "      <td>NaN</td>\n",
       "      <td>NaN</td>\n",
       "      <td>NaN</td>\n",
       "      <td>NaN</td>\n",
       "      <td>NaN</td>\n",
       "      <td>NaN</td>\n",
       "      <td>NaN</td>\n",
       "      <td>NaN</td>\n",
       "      <td>424.492103</td>\n",
       "      <td>425.007451</td>\n",
       "      <td>63.242143</td>\n",
       "      <td>63.242143</td>\n",
       "      <td>0.0</td>\n",
       "      <td>-1.0</td>\n",
       "      <td>-1.0</td>\n",
       "      <td>0.0</td>\n",
       "      <td>0.0</td>\n",
       "      <td>0.0</td>\n",
       "      <td>0</td>\n",
       "      <td>0</td>\n",
       "    </tr>\n",
       "    <tr>\n",
       "      <th>2014-09-20</th>\n",
       "      <td>394.673004</td>\n",
       "      <td>423.295990</td>\n",
       "      <td>389.882996</td>\n",
       "      <td>408.903992</td>\n",
       "      <td>408.903992</td>\n",
       "      <td>36863600.0</td>\n",
       "      <td>13292775.0</td>\n",
       "      <td>21000000.0</td>\n",
       "      <td>63.298929</td>\n",
       "      <td>2.773206</td>\n",
       "      <td>90152.213530</td>\n",
       "      <td>0.143593</td>\n",
       "      <td>0.275693</td>\n",
       "      <td>NaN</td>\n",
       "      <td>NaN</td>\n",
       "      <td>NaN</td>\n",
       "      <td>NaN</td>\n",
       "      <td>NaN</td>\n",
       "      <td>NaN</td>\n",
       "      <td>NaN</td>\n",
       "      <td>NaN</td>\n",
       "      <td>NaN</td>\n",
       "      <td>NaN</td>\n",
       "      <td>420.301065</td>\n",
       "      <td>420.830884</td>\n",
       "      <td>63.257410</td>\n",
       "      <td>63.256871</td>\n",
       "      <td>0.0</td>\n",
       "      <td>-1.0</td>\n",
       "      <td>-1.0</td>\n",
       "      <td>1.0</td>\n",
       "      <td>0.0</td>\n",
       "      <td>1.0</td>\n",
       "      <td>0</td>\n",
       "      <td>0</td>\n",
       "    </tr>\n",
       "    <tr>\n",
       "      <th>2014-09-21</th>\n",
       "      <td>408.084991</td>\n",
       "      <td>412.425995</td>\n",
       "      <td>393.181000</td>\n",
       "      <td>398.821014</td>\n",
       "      <td>398.821014</td>\n",
       "      <td>26580100.0</td>\n",
       "      <td>13292775.0</td>\n",
       "      <td>21000000.0</td>\n",
       "      <td>63.298929</td>\n",
       "      <td>1.999590</td>\n",
       "      <td>66646.688783</td>\n",
       "      <td>0.122571</td>\n",
       "      <td>0.222286</td>\n",
       "      <td>NaN</td>\n",
       "      <td>NaN</td>\n",
       "      <td>NaN</td>\n",
       "      <td>NaN</td>\n",
       "      <td>NaN</td>\n",
       "      <td>NaN</td>\n",
       "      <td>NaN</td>\n",
       "      <td>NaN</td>\n",
       "      <td>NaN</td>\n",
       "      <td>NaN</td>\n",
       "      <td>415.569492</td>\n",
       "      <td>416.208314</td>\n",
       "      <td>63.266556</td>\n",
       "      <td>63.265704</td>\n",
       "      <td>0.0</td>\n",
       "      <td>-1.0</td>\n",
       "      <td>-1.0</td>\n",
       "      <td>1.0</td>\n",
       "      <td>0.0</td>\n",
       "      <td>1.0</td>\n",
       "      <td>0</td>\n",
       "      <td>0</td>\n",
       "    </tr>\n",
       "  </tbody>\n",
       "</table>\n",
       "</div>"
      ],
      "text/plain": [
       "                  Open        High         Low       Close   Adj Close  \\\n",
       "Date                                                                     \n",
       "2014-09-17  465.864014  468.174011  452.421997  457.334015  457.334015   \n",
       "2014-09-18  456.859985  456.859985  413.104004  424.440002  424.440002   \n",
       "2014-09-19  424.102997  427.834991  384.532013  394.795990  394.795990   \n",
       "2014-09-20  394.673004  423.295990  389.882996  408.903992  408.903992   \n",
       "2014-09-21  408.084991  412.425995  393.181000  398.821014  398.821014   \n",
       "\n",
       "                Volume  Circulating Supply  Max Supply  Supply Ratio  \\\n",
       "Date                                                                   \n",
       "2014-09-17  21056800.0          13280850.0  21000000.0     63.242143   \n",
       "2014-09-18  34483200.0          13280850.0  21000000.0     63.242143   \n",
       "2014-09-19  37919700.0          13280850.0  21000000.0     63.242143   \n",
       "2014-09-20  36863600.0          13292775.0  21000000.0     63.298929   \n",
       "2014-09-21  26580100.0          13292775.0  21000000.0     63.298929   \n",
       "\n",
       "            Volume Supply Ratio  Volume Close Ratio  nupl_ratio  mvrv_ratio  \\\n",
       "Date                                                                          \n",
       "2014-09-17             1.585501        46042.496970    0.215017    0.446781   \n",
       "2014-09-18             2.596460        81243.991701    0.170461    0.330261   \n",
       "2014-09-19             2.855216        96048.847913    0.110795    0.196148   \n",
       "2014-09-20             2.773206        90152.213530    0.143593    0.275693   \n",
       "2014-09-21             1.999590        66646.688783    0.122571    0.222286   \n",
       "\n",
       "            SMA50_close  SMA100_close  SMA50_supply  SMA100_suppy  \\\n",
       "Date                                                                \n",
       "2014-09-17          NaN           NaN           NaN           NaN   \n",
       "2014-09-18          NaN           NaN           NaN           NaN   \n",
       "2014-09-19          NaN           NaN           NaN           NaN   \n",
       "2014-09-20          NaN           NaN           NaN           NaN   \n",
       "2014-09-21          NaN           NaN           NaN           NaN   \n",
       "\n",
       "            bollinger_mid_band_close  bollinger_std_close  \\\n",
       "Date                                                        \n",
       "2014-09-17                       NaN                  NaN   \n",
       "2014-09-18                       NaN                  NaN   \n",
       "2014-09-19                       NaN                  NaN   \n",
       "2014-09-20                       NaN                  NaN   \n",
       "2014-09-21                       NaN                  NaN   \n",
       "\n",
       "            bollinger_mid_band_supply  bollinger_std_supply  \\\n",
       "Date                                                          \n",
       "2014-09-17                        NaN                   NaN   \n",
       "2014-09-18                        NaN                   NaN   \n",
       "2014-09-19                        NaN                   NaN   \n",
       "2014-09-20                        NaN                   NaN   \n",
       "2014-09-21                        NaN                   NaN   \n",
       "\n",
       "            bollinger_upper_band_close  bollinger_lower_band_close  \\\n",
       "Date                                                                 \n",
       "2014-09-17                         NaN                         NaN   \n",
       "2014-09-18                         NaN                         NaN   \n",
       "2014-09-19                         NaN                         NaN   \n",
       "2014-09-20                         NaN                         NaN   \n",
       "2014-09-21                         NaN                         NaN   \n",
       "\n",
       "            fast_close  slow_close  fast_supply  slow_supply  \\\n",
       "Date                                                           \n",
       "2014-09-17  457.334015  457.334015    63.242143    63.242143   \n",
       "2014-09-18  440.479942  440.683444    63.242143    63.242143   \n",
       "2014-09-19  424.492103  425.007451    63.242143    63.242143   \n",
       "2014-09-20  420.301065  420.830884    63.257410    63.256871   \n",
       "2014-09-21  415.569492  416.208314    63.266556    63.265704   \n",
       "\n",
       "            crossover_long_close  crossover_short_close  \\\n",
       "Date                                                      \n",
       "2014-09-17                   0.0                    0.0   \n",
       "2014-09-18                   0.0                   -1.0   \n",
       "2014-09-19                   0.0                   -1.0   \n",
       "2014-09-20                   0.0                   -1.0   \n",
       "2014-09-21                   0.0                   -1.0   \n",
       "\n",
       "            crossover_signal_close  crossover_long_supply  \\\n",
       "Date                                                        \n",
       "2014-09-17                     0.0                    0.0   \n",
       "2014-09-18                    -1.0                    0.0   \n",
       "2014-09-19                    -1.0                    0.0   \n",
       "2014-09-20                    -1.0                    1.0   \n",
       "2014-09-21                    -1.0                    1.0   \n",
       "\n",
       "            crossover_short_supply  crossover_signal_supply  mvrv_signal  \\\n",
       "Date                                                                       \n",
       "2014-09-17                     0.0                      0.0            0   \n",
       "2014-09-18                     0.0                      0.0            0   \n",
       "2014-09-19                     0.0                      0.0            0   \n",
       "2014-09-20                     0.0                      1.0            0   \n",
       "2014-09-21                     0.0                      1.0            0   \n",
       "\n",
       "            nupl_signal  \n",
       "Date                     \n",
       "2014-09-17            0  \n",
       "2014-09-18            0  \n",
       "2014-09-19            0  \n",
       "2014-09-20            0  \n",
       "2014-09-21            0  "
      ]
     },
     "execution_count": 37,
     "metadata": {},
     "output_type": "execute_result"
    }
   ],
   "source": [
    "dataset.head()"
   ]
  },
  {
   "cell_type": "code",
   "execution_count": 40,
   "metadata": {},
   "outputs": [],
   "source": [
    "data = dataset[['Close','Volume','Circulating Supply','Supply Ratio','Volume Supply Ratio']].copy()"
   ]
  },
  {
   "cell_type": "code",
   "execution_count": 41,
   "metadata": {},
   "outputs": [
    {
     "data": {
      "text/html": [
       "<div>\n",
       "<style scoped>\n",
       "    .dataframe tbody tr th:only-of-type {\n",
       "        vertical-align: middle;\n",
       "    }\n",
       "\n",
       "    .dataframe tbody tr th {\n",
       "        vertical-align: top;\n",
       "    }\n",
       "\n",
       "    .dataframe thead th {\n",
       "        text-align: right;\n",
       "    }\n",
       "</style>\n",
       "<table border=\"1\" class=\"dataframe\">\n",
       "  <thead>\n",
       "    <tr style=\"text-align: right;\">\n",
       "      <th></th>\n",
       "      <th>Close</th>\n",
       "      <th>Volume</th>\n",
       "      <th>Circulating Supply</th>\n",
       "      <th>Supply Ratio</th>\n",
       "      <th>Volume Supply Ratio</th>\n",
       "    </tr>\n",
       "    <tr>\n",
       "      <th>Date</th>\n",
       "      <th></th>\n",
       "      <th></th>\n",
       "      <th></th>\n",
       "      <th></th>\n",
       "      <th></th>\n",
       "    </tr>\n",
       "  </thead>\n",
       "  <tbody>\n",
       "    <tr>\n",
       "      <th>2014-09-17</th>\n",
       "      <td>457.334015</td>\n",
       "      <td>21056800.0</td>\n",
       "      <td>13280850.0</td>\n",
       "      <td>63.242143</td>\n",
       "      <td>1.585501</td>\n",
       "    </tr>\n",
       "    <tr>\n",
       "      <th>2014-09-18</th>\n",
       "      <td>424.440002</td>\n",
       "      <td>34483200.0</td>\n",
       "      <td>13280850.0</td>\n",
       "      <td>63.242143</td>\n",
       "      <td>2.596460</td>\n",
       "    </tr>\n",
       "    <tr>\n",
       "      <th>2014-09-19</th>\n",
       "      <td>394.795990</td>\n",
       "      <td>37919700.0</td>\n",
       "      <td>13280850.0</td>\n",
       "      <td>63.242143</td>\n",
       "      <td>2.855216</td>\n",
       "    </tr>\n",
       "    <tr>\n",
       "      <th>2014-09-20</th>\n",
       "      <td>408.903992</td>\n",
       "      <td>36863600.0</td>\n",
       "      <td>13292775.0</td>\n",
       "      <td>63.298929</td>\n",
       "      <td>2.773206</td>\n",
       "    </tr>\n",
       "    <tr>\n",
       "      <th>2014-09-21</th>\n",
       "      <td>398.821014</td>\n",
       "      <td>26580100.0</td>\n",
       "      <td>13292775.0</td>\n",
       "      <td>63.298929</td>\n",
       "      <td>1.999590</td>\n",
       "    </tr>\n",
       "  </tbody>\n",
       "</table>\n",
       "</div>"
      ],
      "text/plain": [
       "                 Close      Volume  Circulating Supply  Supply Ratio  \\\n",
       "Date                                                                   \n",
       "2014-09-17  457.334015  21056800.0          13280850.0     63.242143   \n",
       "2014-09-18  424.440002  34483200.0          13280850.0     63.242143   \n",
       "2014-09-19  394.795990  37919700.0          13280850.0     63.242143   \n",
       "2014-09-20  408.903992  36863600.0          13292775.0     63.298929   \n",
       "2014-09-21  398.821014  26580100.0          13292775.0     63.298929   \n",
       "\n",
       "            Volume Supply Ratio  \n",
       "Date                             \n",
       "2014-09-17             1.585501  \n",
       "2014-09-18             2.596460  \n",
       "2014-09-19             2.855216  \n",
       "2014-09-20             2.773206  \n",
       "2014-09-21             1.999590  "
      ]
     },
     "execution_count": 41,
     "metadata": {},
     "output_type": "execute_result"
    }
   ],
   "source": [
    "data.head()"
   ]
  },
  {
   "cell_type": "code",
   "execution_count": 42,
   "metadata": {},
   "outputs": [
    {
     "data": {
      "text/plain": [
       "(2375, 5)"
      ]
     },
     "execution_count": 42,
     "metadata": {},
     "output_type": "execute_result"
    }
   ],
   "source": [
    "data.shape"
   ]
  },
  {
   "cell_type": "code",
   "execution_count": 43,
   "metadata": {},
   "outputs": [],
   "source": [
    "# convert series to supervised learning\n",
    "###https://machinelearningmastery.com/multivariate-time-series-forecasting-lstms-keras/\n",
    "def series_to_supervised(data, n_in=1, n_out=1, dropnan=True):\n",
    "\tn_vars = 1 if type(data) is list else data.shape[1]\n",
    "\tdf = pd.DataFrame(data)\n",
    "\tcols, names = list(), list()\n",
    "\t# input sequence (t-n, ... t-1)\n",
    "\tfor i in range(n_in, 0, -1):\n",
    "\t\tcols.append(df.shift(i))\n",
    "\t\tnames += [('var%d(t-%d)' % (j+1, i)) for j in range(n_vars)]\n",
    "\t# forecast sequence (t, t+1, ... t+n)\n",
    "\tfor i in range(0, n_out):\n",
    "\t\tcols.append(df.shift(-i))\n",
    "\t\tif i == 0:\n",
    "\t\t\tnames += [('var%d(t)' % (j+1)) for j in range(n_vars)]\n",
    "\t\telse:\n",
    "\t\t\tnames += [('var%d(t+%d)' % (j+1, i)) for j in range(n_vars)]\n",
    "\t# put it all together\n",
    "\tagg = pd.concat(cols, axis=1)\n",
    "\tagg.columns = names\n",
    "\t# drop rows with NaN values\n",
    "\tif dropnan:\n",
    "\t\tagg.dropna(inplace=True)\n",
    "\treturn agg"
   ]
  },
  {
   "cell_type": "code",
   "execution_count": 44,
   "metadata": {},
   "outputs": [],
   "source": [
    "values = data.values"
   ]
  },
  {
   "cell_type": "code",
   "execution_count": 45,
   "metadata": {},
   "outputs": [],
   "source": [
    "values = values.astype('float32')"
   ]
  },
  {
   "cell_type": "code",
   "execution_count": 46,
   "metadata": {},
   "outputs": [],
   "source": [
    "scaler = MinMaxScaler(feature_range=(0, 1))\n",
    "scaled = scaler.fit_transform(values)\n"
   ]
  },
  {
   "cell_type": "code",
   "execution_count": 47,
   "metadata": {},
   "outputs": [],
   "source": [
    "reframed = series_to_supervised(scaled, 1, 1)"
   ]
  },
  {
   "cell_type": "code",
   "execution_count": 48,
   "metadata": {},
   "outputs": [
    {
     "name": "stdout",
     "output_type": "stream",
     "text": [
      "   var1(t-1)  var2(t-1)  var3(t-1)  var4(t-1)  var5(t-1)   var1(t)   var2(t)  \\\n",
      "1   0.004598   0.000043    0.00000    0.00000   0.000061  0.004056  0.000081   \n",
      "2   0.004056   0.000081    0.00000    0.00000   0.000114  0.003568  0.000091   \n",
      "3   0.003568   0.000091    0.00000    0.00000   0.000128  0.003800  0.000088   \n",
      "4   0.003800   0.000088    0.00222    0.00222   0.000124  0.003634  0.000059   \n",
      "5   0.003634   0.000059    0.00222    0.00222   0.000083  0.003689  0.000052   \n",
      "\n",
      "   var3(t)  var4(t)   var5(t)  \n",
      "1  0.00000  0.00000  0.000114  \n",
      "2  0.00000  0.00000  0.000128  \n",
      "3  0.00222  0.00222  0.000124  \n",
      "4  0.00222  0.00222  0.000083  \n",
      "5  0.00222  0.00222  0.000073  \n"
     ]
    }
   ],
   "source": [
    "print(reframed.head())"
   ]
  },
  {
   "cell_type": "code",
   "execution_count": 49,
   "metadata": {},
   "outputs": [
    {
     "name": "stdout",
     "output_type": "stream",
     "text": [
      "   var1(t-1)  var2(t-1)  var3(t-1)  var4(t-1)  var5(t-1)   var1(t)\n",
      "1   0.004598   0.000043    0.00000    0.00000   0.000061  0.004056\n",
      "2   0.004056   0.000081    0.00000    0.00000   0.000114  0.003568\n",
      "3   0.003568   0.000091    0.00000    0.00000   0.000128  0.003800\n",
      "4   0.003800   0.000088    0.00222    0.00222   0.000124  0.003634\n",
      "5   0.003634   0.000059    0.00222    0.00222   0.000083  0.003689\n"
     ]
    }
   ],
   "source": [
    "reframed.drop(reframed.columns[[6,7,8,9]], axis=1, inplace=True) #4,8,12,16,20\n",
    "print(reframed.head())"
   ]
  },
  {
   "cell_type": "code",
   "execution_count": 50,
   "metadata": {},
   "outputs": [],
   "source": [
    "values = reframed.values"
   ]
  },
  {
   "cell_type": "code",
   "execution_count": 51,
   "metadata": {},
   "outputs": [],
   "source": [
    "split = int(0.7 * len(values))\n",
    "train = values[:split,:]\n",
    "test = values[split:,:]\n",
    "n_features = 4\n",
    "n_steps = 1"
   ]
  },
  {
   "cell_type": "code",
   "execution_count": 52,
   "metadata": {},
   "outputs": [
    {
     "data": {
      "text/plain": [
       "(1653, 6)"
      ]
     },
     "execution_count": 52,
     "metadata": {},
     "output_type": "execute_result"
    }
   ],
   "source": [
    "train.shape"
   ]
  },
  {
   "cell_type": "code",
   "execution_count": 53,
   "metadata": {},
   "outputs": [
    {
     "data": {
      "text/plain": [
       "(709, 6)"
      ]
     },
     "execution_count": 53,
     "metadata": {},
     "output_type": "execute_result"
    }
   ],
   "source": [
    "test.shape"
   ]
  },
  {
   "cell_type": "code",
   "execution_count": 54,
   "metadata": {},
   "outputs": [
    {
     "name": "stdout",
     "output_type": "stream",
     "text": [
      "(1653, 4) 1653 (1653,)\n"
     ]
    }
   ],
   "source": [
    "n_obs = n_steps * n_features\n",
    "train_X, train_y = train[:, :n_obs], train[:, -n_features]\n",
    "test_X, test_y = test[:, :n_obs], test[:, -n_features]\n",
    "print(train_X.shape, len(train_X), train_y.shape)"
   ]
  },
  {
   "cell_type": "code",
   "execution_count": 55,
   "metadata": {},
   "outputs": [
    {
     "name": "stdout",
     "output_type": "stream",
     "text": [
      "(1653, 1, 4) (1653,) (709, 1, 4) (709,)\n"
     ]
    }
   ],
   "source": [
    "train_X = train_X.reshape((train_X.shape[0], n_steps, n_features))\n",
    "test_X = test_X.reshape((test_X.shape[0], n_steps, n_features))\n",
    "print(train_X.shape, train_y.shape, test_X.shape, test_y.shape)"
   ]
  },
  {
   "cell_type": "code",
   "execution_count": 57,
   "metadata": {},
   "outputs": [],
   "source": [
    "model = Sequential()\n",
    "model.add(LSTM(50, input_shape=(train_X.shape[1], train_X.shape[2]),return_sequences=True))\n",
    "model.add(Dropout(.2))\n",
    "model.add(LSTM(units=50, return_sequences=True))\n",
    "model.add(Dropout(.2))\n",
    "#model.add(LSTM(units=50, return_sequences=True))\n",
    "#model.add(Dropout(.2))\n",
    "model.add(Dense(1))\n",
    "#model.compile(loss='mae', optimizer='adam')\n",
    "model.compile(optimizer=\"adam\", loss=\"mean_squared_error\")"
   ]
  },
  {
   "cell_type": "code",
   "execution_count": 58,
   "metadata": {},
   "outputs": [
    {
     "name": "stdout",
     "output_type": "stream",
     "text": [
      "Train on 1653 samples, validate on 709 samples\n",
      "Epoch 1/100\n",
      "1653/1653 [==============================] - 3s 2ms/sample - loss: 0.2087 - val_loss: 0.5730\n",
      "Epoch 2/100\n",
      "1653/1653 [==============================] - 0s 82us/sample - loss: 0.1091 - val_loss: 0.2879\n",
      "Epoch 3/100\n",
      "1653/1653 [==============================] - 0s 82us/sample - loss: 0.0257 - val_loss: 0.0528\n",
      "Epoch 4/100\n",
      "1653/1653 [==============================] - 0s 73us/sample - loss: 0.0125 - val_loss: 0.0057\n",
      "Epoch 5/100\n",
      "1653/1653 [==============================] - 0s 81us/sample - loss: 0.0173 - val_loss: 0.0124\n",
      "Epoch 6/100\n",
      "1653/1653 [==============================] - 0s 77us/sample - loss: 0.0136 - val_loss: 0.0105\n",
      "Epoch 7/100\n",
      "1653/1653 [==============================] - 0s 85us/sample - loss: 0.0115 - val_loss: 0.0058\n",
      "Epoch 8/100\n",
      "1653/1653 [==============================] - 0s 76us/sample - loss: 0.0098 - val_loss: 0.0042\n",
      "Epoch 9/100\n",
      "1653/1653 [==============================] - 0s 78us/sample - loss: 0.0089 - val_loss: 0.0036\n",
      "Epoch 10/100\n",
      "1653/1653 [==============================] - 0s 79us/sample - loss: 0.0074 - val_loss: 0.0039\n",
      "Epoch 11/100\n",
      "1653/1653 [==============================] - 0s 76us/sample - loss: 0.0066 - val_loss: 0.0053\n",
      "Epoch 12/100\n",
      "1653/1653 [==============================] - 0s 77us/sample - loss: 0.0056 - val_loss: 0.0071\n",
      "Epoch 13/100\n",
      "1653/1653 [==============================] - 0s 74us/sample - loss: 0.0049 - val_loss: 0.0084\n",
      "Epoch 14/100\n",
      "1653/1653 [==============================] - 0s 85us/sample - loss: 0.0045 - val_loss: 0.0098\n",
      "Epoch 15/100\n",
      "1653/1653 [==============================] - 0s 83us/sample - loss: 0.0046 - val_loss: 0.0106\n",
      "Epoch 16/100\n",
      "1653/1653 [==============================] - 0s 79us/sample - loss: 0.0041 - val_loss: 0.0120\n",
      "Epoch 17/100\n",
      "1653/1653 [==============================] - 0s 77us/sample - loss: 0.0039 - val_loss: 0.0125\n",
      "Epoch 18/100\n",
      "1653/1653 [==============================] - 0s 80us/sample - loss: 0.0039 - val_loss: 0.0111\n",
      "Epoch 19/100\n",
      "1653/1653 [==============================] - 0s 84us/sample - loss: 0.0038 - val_loss: 0.0122\n",
      "Epoch 20/100\n",
      "1653/1653 [==============================] - 0s 78us/sample - loss: 0.0036 - val_loss: 0.0091\n",
      "Epoch 21/100\n",
      "1653/1653 [==============================] - 0s 79us/sample - loss: 0.0036 - val_loss: 0.0106\n",
      "Epoch 22/100\n",
      "1653/1653 [==============================] - 0s 84us/sample - loss: 0.0033 - val_loss: 0.0081\n",
      "Epoch 23/100\n",
      "1653/1653 [==============================] - 0s 81us/sample - loss: 0.0034 - val_loss: 0.0075\n",
      "Epoch 24/100\n",
      "1653/1653 [==============================] - 0s 77us/sample - loss: 0.0034 - val_loss: 0.0060\n",
      "Epoch 25/100\n",
      "1653/1653 [==============================] - 0s 83us/sample - loss: 0.0033 - val_loss: 0.0067\n",
      "Epoch 26/100\n",
      "1653/1653 [==============================] - 0s 108us/sample - loss: 0.0032 - val_loss: 0.0047\n",
      "Epoch 27/100\n",
      "1653/1653 [==============================] - 0s 142us/sample - loss: 0.0031 - val_loss: 0.0050\n",
      "Epoch 28/100\n",
      "1653/1653 [==============================] - 0s 80us/sample - loss: 0.0033 - val_loss: 0.0025\n",
      "Epoch 29/100\n",
      "1653/1653 [==============================] - 0s 85us/sample - loss: 0.0035 - val_loss: 0.0038\n",
      "Epoch 30/100\n",
      "1653/1653 [==============================] - 0s 92us/sample - loss: 0.0030 - val_loss: 0.0017\n",
      "Epoch 31/100\n",
      "1653/1653 [==============================] - 0s 80us/sample - loss: 0.0031 - val_loss: 0.0029\n",
      "Epoch 32/100\n",
      "1653/1653 [==============================] - 0s 80us/sample - loss: 0.0028 - val_loss: 0.0016\n",
      "Epoch 33/100\n",
      "1653/1653 [==============================] - 0s 94us/sample - loss: 0.0032 - val_loss: 0.0030\n",
      "Epoch 34/100\n",
      "1653/1653 [==============================] - 0s 82us/sample - loss: 0.0027 - val_loss: 9.3410e-04\n",
      "Epoch 35/100\n",
      "1653/1653 [==============================] - 0s 122us/sample - loss: 0.0032 - val_loss: 0.0019\n",
      "Epoch 36/100\n",
      "1653/1653 [==============================] - 0s 78us/sample - loss: 0.0027 - val_loss: 6.7751e-04\n",
      "Epoch 37/100\n",
      "1653/1653 [==============================] - 0s 68us/sample - loss: 0.0026 - val_loss: 5.2107e-04\n",
      "Epoch 38/100\n",
      "1653/1653 [==============================] - 0s 63us/sample - loss: 0.0028 - val_loss: 3.7786e-04\n",
      "Epoch 39/100\n",
      "1653/1653 [==============================] - 0s 70us/sample - loss: 0.0029 - val_loss: 5.6631e-04\n",
      "Epoch 40/100\n",
      "1653/1653 [==============================] - 0s 64us/sample - loss: 0.0027 - val_loss: 2.6797e-04\n",
      "Epoch 41/100\n",
      "1653/1653 [==============================] - 0s 63us/sample - loss: 0.0026 - val_loss: 2.7710e-04\n",
      "Epoch 42/100\n",
      "1653/1653 [==============================] - 0s 67us/sample - loss: 0.0025 - val_loss: 3.4797e-04\n",
      "Epoch 43/100\n",
      "1653/1653 [==============================] - 0s 63us/sample - loss: 0.0025 - val_loss: 1.9537e-05\n",
      "Epoch 44/100\n",
      "1653/1653 [==============================] - 0s 77us/sample - loss: 0.0027 - val_loss: 3.8513e-04\n",
      "Epoch 45/100\n",
      "1653/1653 [==============================] - 0s 67us/sample - loss: 0.0025 - val_loss: 2.5644e-05\n",
      "Epoch 46/100\n",
      "1653/1653 [==============================] - 0s 63us/sample - loss: 0.0022 - val_loss: 1.3245e-04\n",
      "Epoch 47/100\n",
      "1653/1653 [==============================] - 0s 66us/sample - loss: 0.0023 - val_loss: 1.1647e-05\n",
      "Epoch 48/100\n",
      "1653/1653 [==============================] - 0s 65us/sample - loss: 0.0023 - val_loss: 2.4448e-05\n",
      "Epoch 49/100\n",
      "1653/1653 [==============================] - 0s 68us/sample - loss: 0.0023 - val_loss: 5.4987e-05\n",
      "Epoch 50/100\n",
      "1653/1653 [==============================] - 0s 70us/sample - loss: 0.0023 - val_loss: 3.0925e-05\n",
      "Epoch 51/100\n",
      "1653/1653 [==============================] - 0s 65us/sample - loss: 0.0021 - val_loss: 2.4792e-05\n",
      "Epoch 52/100\n",
      "1653/1653 [==============================] - 0s 67us/sample - loss: 0.0025 - val_loss: 1.3596e-05\n",
      "Epoch 53/100\n",
      "1653/1653 [==============================] - 0s 76us/sample - loss: 0.0023 - val_loss: 5.3239e-05\n",
      "Epoch 54/100\n",
      "1653/1653 [==============================] - 0s 65us/sample - loss: 0.0023 - val_loss: 1.9159e-05\n",
      "Epoch 55/100\n",
      "1653/1653 [==============================] - 0s 70us/sample - loss: 0.0022 - val_loss: 5.8101e-05\n",
      "Epoch 56/100\n",
      "1653/1653 [==============================] - 0s 65us/sample - loss: 0.0021 - val_loss: 2.2508e-05\n",
      "Epoch 57/100\n",
      "1653/1653 [==============================] - 0s 77us/sample - loss: 0.0020 - val_loss: 2.4427e-04\n",
      "Epoch 58/100\n",
      "1653/1653 [==============================] - 0s 70us/sample - loss: 0.0024 - val_loss: 3.3169e-05\n",
      "Epoch 59/100\n",
      "1653/1653 [==============================] - 0s 65us/sample - loss: 0.0020 - val_loss: 1.5787e-04\n",
      "Epoch 60/100\n",
      "1653/1653 [==============================] - 0s 68us/sample - loss: 0.0020 - val_loss: 6.4834e-05\n",
      "Epoch 61/100\n",
      "1653/1653 [==============================] - 0s 73us/sample - loss: 0.0021 - val_loss: 1.4185e-05\n",
      "Epoch 62/100\n",
      "1653/1653 [==============================] - 0s 68us/sample - loss: 0.0021 - val_loss: 1.1403e-04\n",
      "Epoch 63/100\n",
      "1653/1653 [==============================] - 0s 68us/sample - loss: 0.0020 - val_loss: 8.2758e-05\n",
      "Epoch 64/100\n",
      "1653/1653 [==============================] - 0s 65us/sample - loss: 0.0021 - val_loss: 1.3810e-04\n",
      "Epoch 65/100\n",
      "1653/1653 [==============================] - 0s 63us/sample - loss: 0.0020 - val_loss: 5.3120e-04\n",
      "Epoch 66/100\n",
      "1653/1653 [==============================] - 0s 71us/sample - loss: 0.0019 - val_loss: 2.5981e-04\n",
      "Epoch 67/100\n",
      "1653/1653 [==============================] - 0s 64us/sample - loss: 0.0018 - val_loss: 1.5776e-04 \n",
      "Epoch 68/100\n",
      "1653/1653 [==============================] - 0s 65us/sample - loss: 0.0020 - val_loss: 3.6842e-04\n",
      "Epoch 69/100\n",
      "1653/1653 [==============================] - 0s 65us/sample - loss: 0.0019 - val_loss: 4.7090e-04\n",
      "Epoch 70/100\n",
      "1653/1653 [==============================] - 0s 70us/sample - loss: 0.0019 - val_loss: 1.1776e-04\n",
      "Epoch 71/100\n",
      "1653/1653 [==============================] - 0s 73us/sample - loss: 0.0019 - val_loss: 5.7756e-04\n",
      "Epoch 72/100\n",
      "1653/1653 [==============================] - 0s 65us/sample - loss: 0.0019 - val_loss: 1.2666e-04\n",
      "Epoch 73/100\n",
      "1653/1653 [==============================] - 0s 64us/sample - loss: 0.0019 - val_loss: 3.5820e-04\n",
      "Epoch 74/100\n",
      "1653/1653 [==============================] - 0s 68us/sample - loss: 0.0019 - val_loss: 4.5696e-04\n",
      "Epoch 75/100\n",
      "1653/1653 [==============================] - 0s 67us/sample - loss: 0.0018 - val_loss: 1.5362e-04\n",
      "Epoch 76/100\n",
      "1653/1653 [==============================] - 0s 64us/sample - loss: 0.0021 - val_loss: 5.8188e-04\n",
      "Epoch 77/100\n",
      "1653/1653 [==============================] - 0s 64us/sample - loss: 0.0019 - val_loss: 2.0978e-04\n",
      "Epoch 78/100\n",
      "1653/1653 [==============================] - 0s 62us/sample - loss: 0.0018 - val_loss: 1.2121e-04\n",
      "Epoch 79/100\n",
      "1653/1653 [==============================] - 0s 85us/sample - loss: 0.0018 - val_loss: 3.9633e-04\n",
      "Epoch 80/100\n",
      "1653/1653 [==============================] - 0s 70us/sample - loss: 0.0017 - val_loss: 3.9084e-04\n",
      "Epoch 81/100\n",
      "1653/1653 [==============================] - 0s 64us/sample - loss: 0.0019 - val_loss: 9.7643e-05\n",
      "Epoch 82/100\n",
      "1653/1653 [==============================] - 0s 67us/sample - loss: 0.0017 - val_loss: 7.8227e-04\n",
      "Epoch 83/100\n",
      "1653/1653 [==============================] - 0s 64us/sample - loss: 0.0019 - val_loss: 4.1775e-04\n",
      "Epoch 84/100\n",
      "1653/1653 [==============================] - 0s 65us/sample - loss: 0.0017 - val_loss: 4.4509e-04\n",
      "Epoch 85/100\n",
      "1653/1653 [==============================] - 0s 62us/sample - loss: 0.0017 - val_loss: 1.2318e-04\n",
      "Epoch 86/100\n",
      "1653/1653 [==============================] - 0s 67us/sample - loss: 0.0017 - val_loss: 3.9482e-04\n",
      "Epoch 87/100\n",
      "1653/1653 [==============================] - 0s 67us/sample - loss: 0.0020 - val_loss: 6.9343e-04\n",
      "Epoch 88/100\n",
      "1653/1653 [==============================] - 0s 68us/sample - loss: 0.0016 - val_loss: 3.7758e-04\n",
      "Epoch 89/100\n",
      "1653/1653 [==============================] - 0s 65us/sample - loss: 0.0016 - val_loss: 3.4376e-04\n",
      "Epoch 90/100\n",
      "1653/1653 [==============================] - 0s 68us/sample - loss: 0.0016 - val_loss: 4.9663e-04\n",
      "Epoch 91/100\n",
      "1653/1653 [==============================] - 0s 62us/sample - loss: 0.0018 - val_loss: 1.7890e-04\n",
      "Epoch 92/100\n",
      "1653/1653 [==============================] - 0s 67us/sample - loss: 0.0018 - val_loss: 1.8613e-04\n",
      "Epoch 93/100\n",
      "1653/1653 [==============================] - 0s 65us/sample - loss: 0.0018 - val_loss: 4.9712e-04\n",
      "Epoch 94/100\n",
      "1653/1653 [==============================] - 0s 61us/sample - loss: 0.0017 - val_loss: 3.2743e-04\n",
      "Epoch 95/100\n",
      "1653/1653 [==============================] - 0s 67us/sample - loss: 0.0015 - val_loss: 2.3956e-04\n",
      "Epoch 96/100\n",
      "1653/1653 [==============================] - 0s 64us/sample - loss: 0.0016 - val_loss: 3.9460e-04\n",
      "Epoch 97/100\n",
      "1653/1653 [==============================] - 0s 70us/sample - loss: 0.0017 - val_loss: 3.1961e-04\n",
      "Epoch 98/100\n",
      "1653/1653 [==============================] - 0s 68us/sample - loss: 0.0016 - val_loss: 4.8327e-04\n",
      "Epoch 99/100\n",
      "1653/1653 [==============================] - 0s 64us/sample - loss: 0.0016 - val_loss: 1.5059e-04\n",
      "Epoch 100/100\n",
      "1653/1653 [==============================] - 0s 67us/sample - loss: 0.0016 - val_loss: 3.3098e-04\n"
     ]
    }
   ],
   "source": [
    "history = model.fit(train_X, train_y, epochs=100, batch_size=100, validation_data=(test_X, test_y), verbose=1, shuffle=False)"
   ]
  },
  {
   "cell_type": "code",
   "execution_count": 59,
   "metadata": {},
   "outputs": [
    {
     "data": {
      "image/png": "[encoded data removed]",
      "text/plain": [
       "<Figure size 432x288 with 1 Axes>"
      ]
     },
     "metadata": {
      "needs_background": "light"
     },
     "output_type": "display_data"
    }
   ],
   "source": [
    "pyplot.plot(history.history['loss'], label='train')\n",
    "pyplot.plot(history.history['val_loss'], label='test')\n",
    "pyplot.legend()\n",
    "pyplot.show()"
   ]
  },
  {
   "cell_type": "code",
   "execution_count": 60,
   "metadata": {},
   "outputs": [],
   "source": [
    "# make a prediction\n",
    "yhat = model.predict(test_X)"
   ]
  },
  {
   "cell_type": "code",
   "execution_count": 61,
   "metadata": {},
   "outputs": [
    {
     "name": "stdout",
     "output_type": "stream",
     "text": [
      "709/709 [==============================] - 0s 83us/sample - loss: 3.3098e-04\n"
     ]
    },
    {
     "data": {
      "text/plain": [
       "0.0003309803917883023"
      ]
     },
     "execution_count": 61,
     "metadata": {},
     "output_type": "execute_result"
    }
   ],
   "source": [
    "model.evaluate(test_X, test_y, verbose=1)"
   ]
  },
  {
   "cell_type": "code",
   "execution_count": 62,
   "metadata": {},
   "outputs": [
    {
     "data": {
      "text/plain": [
       "(709, 1, 1)"
      ]
     },
     "execution_count": 62,
     "metadata": {},
     "output_type": "execute_result"
    }
   ],
   "source": [
    "yhat.shape"
   ]
  },
  {
   "cell_type": "code",
   "execution_count": 64,
   "metadata": {},
   "outputs": [],
   "source": [
    "yhat = yhat.reshape(709,1)\n",
    "feat_cols = -1 * (n_features - 1)"
   ]
  },
  {
   "cell_type": "code",
   "execution_count": 436,
   "metadata": {},
   "outputs": [],
   "source": [
    "test_X = test_X.reshape((test_X.shape[0], n_steps*n_features))"
   ]
  },
  {
   "cell_type": "code",
   "execution_count": 437,
   "metadata": {},
   "outputs": [],
   "source": [
    "#inv_yhat = np.concatenate((yhat, test_X[:, -3:]), axis=1)"
   ]
  },
  {
   "cell_type": "code",
   "execution_count": 438,
   "metadata": {},
   "outputs": [],
   "source": [
    "#inv_yhat = scaler.inverse_transform(inv_yhat)\n",
    "#inv_yhat = inv_yhat[:,0]"
   ]
  },
  {
   "cell_type": "code",
   "execution_count": 439,
   "metadata": {},
   "outputs": [],
   "source": [
    "from math import sqrt"
   ]
  },
  {
   "cell_type": "code",
   "execution_count": 440,
   "metadata": {},
   "outputs": [],
   "source": [
    "# invert scaling for forecast\n",
    "inv_yhat = np.concatenate((yhat, test_X[:, feat_cols:]), axis=1)\n",
    "inv_yhat = scaler.inverse_transform(inv_yhat)\n",
    "inv_yhat = inv_yhat[:,0]"
   ]
  },
  {
   "cell_type": "code",
   "execution_count": 441,
   "metadata": {},
   "outputs": [
    {
     "name": "stdout",
     "output_type": "stream",
     "text": [
      "Test RMSE: 259.641\n"
     ]
    }
   ],
   "source": [
    "# invert scaling for actual\n",
    "test_y = test_y.reshape((len(test_y), 1))\n",
    "inv_y = np.concatenate((test_y, test_X[:, feat_cols:]), axis=1)\n",
    "inv_y = scaler.inverse_transform(inv_y)\n",
    "inv_y = inv_y[:,0]\n",
    "# calculate RMSE\n",
    "rmse = sqrt(mean_squared_error(inv_y, inv_yhat))\n",
    "print('Test RMSE: %.3f' % rmse)"
   ]
  },
  {
   "cell_type": "code",
   "execution_count": 442,
   "metadata": {},
   "outputs": [
    {
     "data": {
      "text/plain": [
       "(150,)"
      ]
     },
     "execution_count": 442,
     "metadata": {},
     "output_type": "execute_result"
    }
   ],
   "source": [
    "inv_yhat.shape"
   ]
  },
  {
   "cell_type": "code",
   "execution_count": 470,
   "metadata": {},
   "outputs": [
    {
     "data": {
      "text/plain": [
       "<matplotlib.axes._subplots.AxesSubplot at 0x180887e4208>"
      ]
     },
     "execution_count": 470,
     "metadata": {},
     "output_type": "execute_result"
    },
    {
     "data": {
      "image/png": "[encoded data removed]",
      "text/plain": [
       "<Figure size 432x288 with 1 Axes>"
      ]
     },
     "metadata": {
      "needs_background": "light"
     },
     "output_type": "display_data"
    }
   ],
   "source": [
    "results = {'Predicted':inv_yhat ,'Actual':inv_y}\n",
    "df_results = pd.DataFrame(results)\n",
    "df_results.plot()"
   ]
  },
  {
   "cell_type": "code",
   "execution_count": 444,
   "metadata": {},
   "outputs": [
    {
     "data": {
      "text/html": [
       "<div>\n",
       "<style scoped>\n",
       "    .dataframe tbody tr th:only-of-type {\n",
       "        vertical-align: middle;\n",
       "    }\n",
       "\n",
       "    .dataframe tbody tr th {\n",
       "        vertical-align: top;\n",
       "    }\n",
       "\n",
       "    .dataframe thead th {\n",
       "        text-align: right;\n",
       "    }\n",
       "</style>\n",
       "<table border=\"1\" class=\"dataframe\">\n",
       "  <thead>\n",
       "    <tr style=\"text-align: right;\">\n",
       "      <th></th>\n",
       "      <th>Predicted</th>\n",
       "      <th>Actual</th>\n",
       "    </tr>\n",
       "  </thead>\n",
       "  <tbody>\n",
       "    <tr>\n",
       "      <th>0</th>\n",
       "      <td>60541.390625</td>\n",
       "      <td>60559.289062</td>\n",
       "    </tr>\n",
       "    <tr>\n",
       "      <th>1</th>\n",
       "      <td>60525.679688</td>\n",
       "      <td>60522.191406</td>\n",
       "    </tr>\n",
       "    <tr>\n",
       "      <th>2</th>\n",
       "      <td>60532.726562</td>\n",
       "      <td>60506.285156</td>\n",
       "    </tr>\n",
       "    <tr>\n",
       "      <th>3</th>\n",
       "      <td>60519.835938</td>\n",
       "      <td>60476.835938</td>\n",
       "    </tr>\n",
       "    <tr>\n",
       "      <th>4</th>\n",
       "      <td>60534.476562</td>\n",
       "      <td>60468.273438</td>\n",
       "    </tr>\n",
       "  </tbody>\n",
       "</table>\n",
       "</div>"
      ],
      "text/plain": [
       "      Predicted        Actual\n",
       "0  60541.390625  60559.289062\n",
       "1  60525.679688  60522.191406\n",
       "2  60532.726562  60506.285156\n",
       "3  60519.835938  60476.835938\n",
       "4  60534.476562  60468.273438"
      ]
     },
     "execution_count": 444,
     "metadata": {},
     "output_type": "execute_result"
    }
   ],
   "source": [
    "df_results.head()"
   ]
  },
  {
   "cell_type": "code",
   "execution_count": 471,
   "metadata": {},
   "outputs": [],
   "source": [
    "model.save_weights(\"five_model.h5\")"
   ]
  },
  {
   "cell_type": "code",
   "execution_count": null,
   "metadata": {},
   "outputs": [],
   "source": []
  }
 ],
 "metadata": {
  "kernelspec": {
   "display_name": "Python 3",
   "language": "python",
   "name": "python3"
  },
  "language_info": {
   "codemirror_mode": {
    "name": "ipython",
    "version": 3
   },
   "file_extension": ".py",
   "mimetype": "text/x-python",
   "name": "python",
   "nbconvert_exporter": "python",
   "pygments_lexer": "ipython3",
   "version": "3.8.8"
  }
 },
 "nbformat": 4,
 "nbformat_minor": 4
}

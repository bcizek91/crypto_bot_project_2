{
 "cells": [
  {
   "cell_type": "code",
   "execution_count": 230,
   "metadata": {},
   "outputs": [],
   "source": [
    "#This code heavily references code =used for the following tutorial article:\n",
    "###https://machinelearningmastery.com/multivariate-time-series-forecasting-lstms-keras/\n",
    "\n",
    "\n",
    "import numpy as np\n",
    "import pandas as pd\n",
    "from matplotlib import pyplot\n",
    "from sklearn.preprocessing import MinMaxScaler\n",
    "from sklearn.metrics import mean_squared_error\n",
    "from tensorflow.keras.models import Sequential\n",
    "from tensorflow.keras.layers import LSTM, Dense, Dropout"
   ]
  },
  {
   "cell_type": "code",
   "execution_count": 231,
   "metadata": {},
   "outputs": [],
   "source": [
    "dataset = pd.read_csv('data/500_five_min_intervals_btc.csv')"
   ]
  },
  {
   "cell_type": "code",
   "execution_count": 232,
   "metadata": {},
   "outputs": [
    {
     "data": {
      "text/html": [
       "<div>\n",
       "<style scoped>\n",
       "    .dataframe tbody tr th:only-of-type {\n",
       "        vertical-align: middle;\n",
       "    }\n",
       "\n",
       "    .dataframe tbody tr th {\n",
       "        vertical-align: top;\n",
       "    }\n",
       "\n",
       "    .dataframe thead th {\n",
       "        text-align: right;\n",
       "    }\n",
       "</style>\n",
       "<table border=\"1\" class=\"dataframe\">\n",
       "  <thead>\n",
       "    <tr style=\"text-align: right;\">\n",
       "      <th></th>\n",
       "      <th>Unnamed: 0</th>\n",
       "      <th>ask</th>\n",
       "      <th>askVolume</th>\n",
       "      <th>average</th>\n",
       "      <th>baseVolume</th>\n",
       "      <th>bid</th>\n",
       "      <th>bidVolume</th>\n",
       "      <th>change</th>\n",
       "      <th>close</th>\n",
       "      <th>datetime</th>\n",
       "      <th>...</th>\n",
       "      <th>low</th>\n",
       "      <th>open</th>\n",
       "      <th>percentage</th>\n",
       "      <th>previousClose</th>\n",
       "      <th>quoteVolume</th>\n",
       "      <th>redd_sent</th>\n",
       "      <th>symbol</th>\n",
       "      <th>timestamp</th>\n",
       "      <th>twi_sent</th>\n",
       "      <th>vwap</th>\n",
       "    </tr>\n",
       "  </thead>\n",
       "  <tbody>\n",
       "    <tr>\n",
       "      <th>0</th>\n",
       "      <td>0</td>\n",
       "      <td>60575.8</td>\n",
       "      <td>NaN</td>\n",
       "      <td>NaN</td>\n",
       "      <td>3181.362949</td>\n",
       "      <td>60575.7</td>\n",
       "      <td>NaN</td>\n",
       "      <td>NaN</td>\n",
       "      <td>60575.8</td>\n",
       "      <td>2021-03-14T23:24:31.515Z</td>\n",
       "      <td>...</td>\n",
       "      <td>59258.8</td>\n",
       "      <td>61174.9</td>\n",
       "      <td>NaN</td>\n",
       "      <td>NaN</td>\n",
       "      <td>1.922725e+08</td>\n",
       "      <td>0.521747</td>\n",
       "      <td>BTC/USD</td>\n",
       "      <td>1.615764e+12</td>\n",
       "      <td>0.192540</td>\n",
       "      <td>60437.15997</td>\n",
       "    </tr>\n",
       "    <tr>\n",
       "      <th>1</th>\n",
       "      <td>1</td>\n",
       "      <td>60479.3</td>\n",
       "      <td>NaN</td>\n",
       "      <td>NaN</td>\n",
       "      <td>3174.729925</td>\n",
       "      <td>60470.4</td>\n",
       "      <td>NaN</td>\n",
       "      <td>NaN</td>\n",
       "      <td>60472.4</td>\n",
       "      <td>2021-03-14T23:29:31.235Z</td>\n",
       "      <td>...</td>\n",
       "      <td>59258.8</td>\n",
       "      <td>61174.9</td>\n",
       "      <td>NaN</td>\n",
       "      <td>NaN</td>\n",
       "      <td>1.918609e+08</td>\n",
       "      <td>0.510972</td>\n",
       "      <td>BTC/USD</td>\n",
       "      <td>1.615765e+12</td>\n",
       "      <td>0.155409</td>\n",
       "      <td>60433.77015</td>\n",
       "    </tr>\n",
       "    <tr>\n",
       "      <th>2</th>\n",
       "      <td>2</td>\n",
       "      <td>60391.2</td>\n",
       "      <td>NaN</td>\n",
       "      <td>NaN</td>\n",
       "      <td>3183.662191</td>\n",
       "      <td>60391.1</td>\n",
       "      <td>NaN</td>\n",
       "      <td>NaN</td>\n",
       "      <td>60391.2</td>\n",
       "      <td>2021-03-14T23:34:31.722Z</td>\n",
       "      <td>...</td>\n",
       "      <td>59258.8</td>\n",
       "      <td>61174.9</td>\n",
       "      <td>NaN</td>\n",
       "      <td>NaN</td>\n",
       "      <td>1.923922e+08</td>\n",
       "      <td>0.508851</td>\n",
       "      <td>BTC/USD</td>\n",
       "      <td>1.615765e+12</td>\n",
       "      <td>0.169993</td>\n",
       "      <td>60431.11236</td>\n",
       "    </tr>\n",
       "    <tr>\n",
       "      <th>3</th>\n",
       "      <td>3</td>\n",
       "      <td>60122.9</td>\n",
       "      <td>NaN</td>\n",
       "      <td>NaN</td>\n",
       "      <td>3187.864044</td>\n",
       "      <td>60117.8</td>\n",
       "      <td>NaN</td>\n",
       "      <td>NaN</td>\n",
       "      <td>60111.7</td>\n",
       "      <td>2021-03-14T23:39:31.413Z</td>\n",
       "      <td>...</td>\n",
       "      <td>59258.8</td>\n",
       "      <td>61174.9</td>\n",
       "      <td>NaN</td>\n",
       "      <td>NaN</td>\n",
       "      <td>1.926364e+08</td>\n",
       "      <td>0.526616</td>\n",
       "      <td>BTC/USD</td>\n",
       "      <td>1.615765e+12</td>\n",
       "      <td>0.158870</td>\n",
       "      <td>60428.04756</td>\n",
       "    </tr>\n",
       "    <tr>\n",
       "      <th>4</th>\n",
       "      <td>4</td>\n",
       "      <td>60011.8</td>\n",
       "      <td>NaN</td>\n",
       "      <td>NaN</td>\n",
       "      <td>3205.871977</td>\n",
       "      <td>60008.7</td>\n",
       "      <td>NaN</td>\n",
       "      <td>NaN</td>\n",
       "      <td>60020.1</td>\n",
       "      <td>2021-03-14T23:44:31.704Z</td>\n",
       "      <td>...</td>\n",
       "      <td>59258.8</td>\n",
       "      <td>61174.9</td>\n",
       "      <td>NaN</td>\n",
       "      <td>NaN</td>\n",
       "      <td>1.937058e+08</td>\n",
       "      <td>0.515635</td>\n",
       "      <td>BTC/USD</td>\n",
       "      <td>1.615765e+12</td>\n",
       "      <td>0.133040</td>\n",
       "      <td>60422.18785</td>\n",
       "    </tr>\n",
       "  </tbody>\n",
       "</table>\n",
       "<p>5 rows × 22 columns</p>\n",
       "</div>"
      ],
      "text/plain": [
       "   Unnamed: 0      ask  askVolume  average   baseVolume      bid  bidVolume  \\\n",
       "0           0  60575.8        NaN      NaN  3181.362949  60575.7        NaN   \n",
       "1           1  60479.3        NaN      NaN  3174.729925  60470.4        NaN   \n",
       "2           2  60391.2        NaN      NaN  3183.662191  60391.1        NaN   \n",
       "3           3  60122.9        NaN      NaN  3187.864044  60117.8        NaN   \n",
       "4           4  60011.8        NaN      NaN  3205.871977  60008.7        NaN   \n",
       "\n",
       "   change    close                  datetime  ...      low     open  \\\n",
       "0     NaN  60575.8  2021-03-14T23:24:31.515Z  ...  59258.8  61174.9   \n",
       "1     NaN  60472.4  2021-03-14T23:29:31.235Z  ...  59258.8  61174.9   \n",
       "2     NaN  60391.2  2021-03-14T23:34:31.722Z  ...  59258.8  61174.9   \n",
       "3     NaN  60111.7  2021-03-14T23:39:31.413Z  ...  59258.8  61174.9   \n",
       "4     NaN  60020.1  2021-03-14T23:44:31.704Z  ...  59258.8  61174.9   \n",
       "\n",
       "   percentage  previousClose   quoteVolume  redd_sent   symbol     timestamp  \\\n",
       "0         NaN            NaN  1.922725e+08   0.521747  BTC/USD  1.615764e+12   \n",
       "1         NaN            NaN  1.918609e+08   0.510972  BTC/USD  1.615765e+12   \n",
       "2         NaN            NaN  1.923922e+08   0.508851  BTC/USD  1.615765e+12   \n",
       "3         NaN            NaN  1.926364e+08   0.526616  BTC/USD  1.615765e+12   \n",
       "4         NaN            NaN  1.937058e+08   0.515635  BTC/USD  1.615765e+12   \n",
       "\n",
       "   twi_sent         vwap  \n",
       "0  0.192540  60437.15997  \n",
       "1  0.155409  60433.77015  \n",
       "2  0.169993  60431.11236  \n",
       "3  0.158870  60428.04756  \n",
       "4  0.133040  60422.18785  \n",
       "\n",
       "[5 rows x 22 columns]"
      ]
     },
     "execution_count": 232,
     "metadata": {},
     "output_type": "execute_result"
    }
   ],
   "source": [
    "dataset.head()"
   ]
  },
  {
   "cell_type": "code",
   "execution_count": 233,
   "metadata": {},
   "outputs": [],
   "source": [
    "dataset['datetime'] = pd.to_datetime(dataset['datetime'],infer_datetime_format = True)"
   ]
  },
  {
   "cell_type": "code",
   "execution_count": 234,
   "metadata": {},
   "outputs": [],
   "source": [
    "def ticker_shape(dataset):\n",
    "    dataset = pd.to_datetime(dataset['datetime'],infer_datetime_format = True)\n",
    "    dataset.set_index(['datetime'],inplace = True)\n",
    "    values = data.values\n",
    "    "
   ]
  },
  {
   "cell_type": "code",
   "execution_count": 235,
   "metadata": {},
   "outputs": [
    {
     "data": {
      "text/html": [
       "<div>\n",
       "<style scoped>\n",
       "    .dataframe tbody tr th:only-of-type {\n",
       "        vertical-align: middle;\n",
       "    }\n",
       "\n",
       "    .dataframe tbody tr th {\n",
       "        vertical-align: top;\n",
       "    }\n",
       "\n",
       "    .dataframe thead th {\n",
       "        text-align: right;\n",
       "    }\n",
       "</style>\n",
       "<table border=\"1\" class=\"dataframe\">\n",
       "  <thead>\n",
       "    <tr style=\"text-align: right;\">\n",
       "      <th></th>\n",
       "      <th>Unnamed: 0</th>\n",
       "      <th>ask</th>\n",
       "      <th>askVolume</th>\n",
       "      <th>average</th>\n",
       "      <th>baseVolume</th>\n",
       "      <th>bid</th>\n",
       "      <th>bidVolume</th>\n",
       "      <th>change</th>\n",
       "      <th>close</th>\n",
       "      <th>datetime</th>\n",
       "      <th>...</th>\n",
       "      <th>low</th>\n",
       "      <th>open</th>\n",
       "      <th>percentage</th>\n",
       "      <th>previousClose</th>\n",
       "      <th>quoteVolume</th>\n",
       "      <th>redd_sent</th>\n",
       "      <th>symbol</th>\n",
       "      <th>timestamp</th>\n",
       "      <th>twi_sent</th>\n",
       "      <th>vwap</th>\n",
       "    </tr>\n",
       "  </thead>\n",
       "  <tbody>\n",
       "    <tr>\n",
       "      <th>0</th>\n",
       "      <td>0</td>\n",
       "      <td>60575.8</td>\n",
       "      <td>NaN</td>\n",
       "      <td>NaN</td>\n",
       "      <td>3181.362949</td>\n",
       "      <td>60575.7</td>\n",
       "      <td>NaN</td>\n",
       "      <td>NaN</td>\n",
       "      <td>60575.8</td>\n",
       "      <td>2021-03-14 23:24:31.515000+00:00</td>\n",
       "      <td>...</td>\n",
       "      <td>59258.8</td>\n",
       "      <td>61174.9</td>\n",
       "      <td>NaN</td>\n",
       "      <td>NaN</td>\n",
       "      <td>1.922725e+08</td>\n",
       "      <td>0.521747</td>\n",
       "      <td>BTC/USD</td>\n",
       "      <td>1.615764e+12</td>\n",
       "      <td>0.192540</td>\n",
       "      <td>60437.15997</td>\n",
       "    </tr>\n",
       "    <tr>\n",
       "      <th>1</th>\n",
       "      <td>1</td>\n",
       "      <td>60479.3</td>\n",
       "      <td>NaN</td>\n",
       "      <td>NaN</td>\n",
       "      <td>3174.729925</td>\n",
       "      <td>60470.4</td>\n",
       "      <td>NaN</td>\n",
       "      <td>NaN</td>\n",
       "      <td>60472.4</td>\n",
       "      <td>2021-03-14 23:29:31.235000+00:00</td>\n",
       "      <td>...</td>\n",
       "      <td>59258.8</td>\n",
       "      <td>61174.9</td>\n",
       "      <td>NaN</td>\n",
       "      <td>NaN</td>\n",
       "      <td>1.918609e+08</td>\n",
       "      <td>0.510972</td>\n",
       "      <td>BTC/USD</td>\n",
       "      <td>1.615765e+12</td>\n",
       "      <td>0.155409</td>\n",
       "      <td>60433.77015</td>\n",
       "    </tr>\n",
       "    <tr>\n",
       "      <th>2</th>\n",
       "      <td>2</td>\n",
       "      <td>60391.2</td>\n",
       "      <td>NaN</td>\n",
       "      <td>NaN</td>\n",
       "      <td>3183.662191</td>\n",
       "      <td>60391.1</td>\n",
       "      <td>NaN</td>\n",
       "      <td>NaN</td>\n",
       "      <td>60391.2</td>\n",
       "      <td>2021-03-14 23:34:31.722000+00:00</td>\n",
       "      <td>...</td>\n",
       "      <td>59258.8</td>\n",
       "      <td>61174.9</td>\n",
       "      <td>NaN</td>\n",
       "      <td>NaN</td>\n",
       "      <td>1.923922e+08</td>\n",
       "      <td>0.508851</td>\n",
       "      <td>BTC/USD</td>\n",
       "      <td>1.615765e+12</td>\n",
       "      <td>0.169993</td>\n",
       "      <td>60431.11236</td>\n",
       "    </tr>\n",
       "    <tr>\n",
       "      <th>3</th>\n",
       "      <td>3</td>\n",
       "      <td>60122.9</td>\n",
       "      <td>NaN</td>\n",
       "      <td>NaN</td>\n",
       "      <td>3187.864044</td>\n",
       "      <td>60117.8</td>\n",
       "      <td>NaN</td>\n",
       "      <td>NaN</td>\n",
       "      <td>60111.7</td>\n",
       "      <td>2021-03-14 23:39:31.413000+00:00</td>\n",
       "      <td>...</td>\n",
       "      <td>59258.8</td>\n",
       "      <td>61174.9</td>\n",
       "      <td>NaN</td>\n",
       "      <td>NaN</td>\n",
       "      <td>1.926364e+08</td>\n",
       "      <td>0.526616</td>\n",
       "      <td>BTC/USD</td>\n",
       "      <td>1.615765e+12</td>\n",
       "      <td>0.158870</td>\n",
       "      <td>60428.04756</td>\n",
       "    </tr>\n",
       "    <tr>\n",
       "      <th>4</th>\n",
       "      <td>4</td>\n",
       "      <td>60011.8</td>\n",
       "      <td>NaN</td>\n",
       "      <td>NaN</td>\n",
       "      <td>3205.871977</td>\n",
       "      <td>60008.7</td>\n",
       "      <td>NaN</td>\n",
       "      <td>NaN</td>\n",
       "      <td>60020.1</td>\n",
       "      <td>2021-03-14 23:44:31.704000+00:00</td>\n",
       "      <td>...</td>\n",
       "      <td>59258.8</td>\n",
       "      <td>61174.9</td>\n",
       "      <td>NaN</td>\n",
       "      <td>NaN</td>\n",
       "      <td>1.937058e+08</td>\n",
       "      <td>0.515635</td>\n",
       "      <td>BTC/USD</td>\n",
       "      <td>1.615765e+12</td>\n",
       "      <td>0.133040</td>\n",
       "      <td>60422.18785</td>\n",
       "    </tr>\n",
       "  </tbody>\n",
       "</table>\n",
       "<p>5 rows × 22 columns</p>\n",
       "</div>"
      ],
      "text/plain": [
       "   Unnamed: 0      ask  askVolume  average   baseVolume      bid  bidVolume  \\\n",
       "0           0  60575.8        NaN      NaN  3181.362949  60575.7        NaN   \n",
       "1           1  60479.3        NaN      NaN  3174.729925  60470.4        NaN   \n",
       "2           2  60391.2        NaN      NaN  3183.662191  60391.1        NaN   \n",
       "3           3  60122.9        NaN      NaN  3187.864044  60117.8        NaN   \n",
       "4           4  60011.8        NaN      NaN  3205.871977  60008.7        NaN   \n",
       "\n",
       "   change    close                         datetime  ...      low     open  \\\n",
       "0     NaN  60575.8 2021-03-14 23:24:31.515000+00:00  ...  59258.8  61174.9   \n",
       "1     NaN  60472.4 2021-03-14 23:29:31.235000+00:00  ...  59258.8  61174.9   \n",
       "2     NaN  60391.2 2021-03-14 23:34:31.722000+00:00  ...  59258.8  61174.9   \n",
       "3     NaN  60111.7 2021-03-14 23:39:31.413000+00:00  ...  59258.8  61174.9   \n",
       "4     NaN  60020.1 2021-03-14 23:44:31.704000+00:00  ...  59258.8  61174.9   \n",
       "\n",
       "   percentage  previousClose   quoteVolume  redd_sent   symbol     timestamp  \\\n",
       "0         NaN            NaN  1.922725e+08   0.521747  BTC/USD  1.615764e+12   \n",
       "1         NaN            NaN  1.918609e+08   0.510972  BTC/USD  1.615765e+12   \n",
       "2         NaN            NaN  1.923922e+08   0.508851  BTC/USD  1.615765e+12   \n",
       "3         NaN            NaN  1.926364e+08   0.526616  BTC/USD  1.615765e+12   \n",
       "4         NaN            NaN  1.937058e+08   0.515635  BTC/USD  1.615765e+12   \n",
       "\n",
       "   twi_sent         vwap  \n",
       "0  0.192540  60437.15997  \n",
       "1  0.155409  60433.77015  \n",
       "2  0.169993  60431.11236  \n",
       "3  0.158870  60428.04756  \n",
       "4  0.133040  60422.18785  \n",
       "\n",
       "[5 rows x 22 columns]"
      ]
     },
     "execution_count": 235,
     "metadata": {},
     "output_type": "execute_result"
    }
   ],
   "source": [
    "dataset.head()"
   ]
  },
  {
   "cell_type": "code",
   "execution_count": 236,
   "metadata": {},
   "outputs": [],
   "source": [
    "dataset.set_index(['datetime'],inplace = True)"
   ]
  },
  {
   "cell_type": "code",
   "execution_count": 237,
   "metadata": {},
   "outputs": [],
   "source": [
    "data = dataset[['close','baseVolume','redd_sent','twi_sent']].copy()"
   ]
  },
  {
   "cell_type": "code",
   "execution_count": 238,
   "metadata": {},
   "outputs": [
    {
     "data": {
      "text/html": [
       "<div>\n",
       "<style scoped>\n",
       "    .dataframe tbody tr th:only-of-type {\n",
       "        vertical-align: middle;\n",
       "    }\n",
       "\n",
       "    .dataframe tbody tr th {\n",
       "        vertical-align: top;\n",
       "    }\n",
       "\n",
       "    .dataframe thead th {\n",
       "        text-align: right;\n",
       "    }\n",
       "</style>\n",
       "<table border=\"1\" class=\"dataframe\">\n",
       "  <thead>\n",
       "    <tr style=\"text-align: right;\">\n",
       "      <th></th>\n",
       "      <th>close</th>\n",
       "      <th>baseVolume</th>\n",
       "      <th>redd_sent</th>\n",
       "      <th>twi_sent</th>\n",
       "    </tr>\n",
       "    <tr>\n",
       "      <th>datetime</th>\n",
       "      <th></th>\n",
       "      <th></th>\n",
       "      <th></th>\n",
       "      <th></th>\n",
       "    </tr>\n",
       "  </thead>\n",
       "  <tbody>\n",
       "    <tr>\n",
       "      <th>2021-03-14 23:24:31.515000+00:00</th>\n",
       "      <td>60575.8</td>\n",
       "      <td>3181.362949</td>\n",
       "      <td>0.521747</td>\n",
       "      <td>0.192540</td>\n",
       "    </tr>\n",
       "    <tr>\n",
       "      <th>2021-03-14 23:29:31.235000+00:00</th>\n",
       "      <td>60472.4</td>\n",
       "      <td>3174.729925</td>\n",
       "      <td>0.510972</td>\n",
       "      <td>0.155409</td>\n",
       "    </tr>\n",
       "    <tr>\n",
       "      <th>2021-03-14 23:34:31.722000+00:00</th>\n",
       "      <td>60391.2</td>\n",
       "      <td>3183.662191</td>\n",
       "      <td>0.508851</td>\n",
       "      <td>0.169993</td>\n",
       "    </tr>\n",
       "    <tr>\n",
       "      <th>2021-03-14 23:39:31.413000+00:00</th>\n",
       "      <td>60111.7</td>\n",
       "      <td>3187.864044</td>\n",
       "      <td>0.526616</td>\n",
       "      <td>0.158870</td>\n",
       "    </tr>\n",
       "    <tr>\n",
       "      <th>2021-03-14 23:44:31.704000+00:00</th>\n",
       "      <td>60020.1</td>\n",
       "      <td>3205.871977</td>\n",
       "      <td>0.515635</td>\n",
       "      <td>0.133040</td>\n",
       "    </tr>\n",
       "  </tbody>\n",
       "</table>\n",
       "</div>"
      ],
      "text/plain": [
       "                                    close   baseVolume  redd_sent  twi_sent\n",
       "datetime                                                                   \n",
       "2021-03-14 23:24:31.515000+00:00  60575.8  3181.362949   0.521747  0.192540\n",
       "2021-03-14 23:29:31.235000+00:00  60472.4  3174.729925   0.510972  0.155409\n",
       "2021-03-14 23:34:31.722000+00:00  60391.2  3183.662191   0.508851  0.169993\n",
       "2021-03-14 23:39:31.413000+00:00  60111.7  3187.864044   0.526616  0.158870\n",
       "2021-03-14 23:44:31.704000+00:00  60020.1  3205.871977   0.515635  0.133040"
      ]
     },
     "execution_count": 238,
     "metadata": {},
     "output_type": "execute_result"
    }
   ],
   "source": [
    "data.head()"
   ]
  },
  {
   "cell_type": "code",
   "execution_count": 239,
   "metadata": {},
   "outputs": [],
   "source": [
    "# convert series to supervised learning\n",
    "###https://machinelearningmastery.com/multivariate-time-series-forecasting-lstms-keras/\n",
    "def series_to_supervised(data, n_in=1, n_out=1, dropnan=True):\n",
    "\tn_vars = 1 if type(data) is list else data.shape[1]\n",
    "\tdf = pd.DataFrame(data)\n",
    "\tcols, names = list(), list()\n",
    "\t# input sequence (t-n, ... t-1)\n",
    "\tfor i in range(n_in, 0, -1):\n",
    "\t\tcols.append(df.shift(i))\n",
    "\t\tnames += [('var%d(t-%d)' % (j+1, i)) for j in range(n_vars)]\n",
    "\t# forecast sequence (t, t+1, ... t+n)\n",
    "\tfor i in range(0, n_out):\n",
    "\t\tcols.append(df.shift(-i))\n",
    "\t\tif i == 0:\n",
    "\t\t\tnames += [('var%d(t)' % (j+1)) for j in range(n_vars)]\n",
    "\t\telse:\n",
    "\t\t\tnames += [('var%d(t+%d)' % (j+1, i)) for j in range(n_vars)]\n",
    "\t# put it all together\n",
    "\tagg = pd.concat(cols, axis=1)\n",
    "\tagg.columns = names\n",
    "\t# drop rows with NaN values\n",
    "\tif dropnan:\n",
    "\t\tagg.dropna(inplace=True)\n",
    "\treturn agg"
   ]
  },
  {
   "cell_type": "code",
   "execution_count": 240,
   "metadata": {},
   "outputs": [],
   "source": [
    "values = data.values"
   ]
  },
  {
   "cell_type": "code",
   "execution_count": 241,
   "metadata": {},
   "outputs": [],
   "source": [
    "values = values.astype('float32')"
   ]
  },
  {
   "cell_type": "code",
   "execution_count": 242,
   "metadata": {},
   "outputs": [],
   "source": [
    "scaler = MinMaxScaler(feature_range=(0, 1))\n",
    "scaled = scaler.fit_transform(values)"
   ]
  },
  {
   "cell_type": "code",
   "execution_count": 256,
   "metadata": {},
   "outputs": [],
   "source": [
    "reframed = series_to_supervised(scaled, 1, 1)"
   ]
  },
  {
   "cell_type": "code",
   "execution_count": 257,
   "metadata": {},
   "outputs": [
    {
     "name": "stdout",
     "output_type": "stream",
     "text": [
      "   var1(t-1)  var2(t-1)  var3(t-1)  var4(t-1)   var1(t)  var1(t+1)  var2(t+1)  \\\n",
      "1   1.000000   0.001353   0.990753   0.459941  0.985638   0.974360   0.001822   \n",
      "2   0.985638   0.000000   0.970293   0.335671  0.974360   0.935538   0.002679   \n",
      "3   0.974360   0.001822   0.966266   0.384480  0.935538   0.922816   0.006351   \n",
      "4   0.935538   0.002679   1.000000   0.347255  0.922816   0.866757   0.010666   \n",
      "5   0.922816   0.006351   0.979147   0.260804  0.866757   0.836686   0.015361   \n",
      "\n",
      "   var3(t+1)  var4(t+1)  var1(t+2)  ...  var3(t+2)  var4(t+2)  var1(t+3)  \\\n",
      "1   0.966266   0.384480   0.935538  ...   1.000000   0.347255   0.922816   \n",
      "2   1.000000   0.347255   0.922816  ...   0.979147   0.260804   0.866757   \n",
      "3   0.979147   0.260804   0.866757  ...   0.979147   0.251245   0.836686   \n",
      "4   0.979147   0.251245   0.836686  ...   0.979147   0.176366   0.795766   \n",
      "5   0.979147   0.176366   0.795766  ...   0.944869   0.308788   0.792489   \n",
      "\n",
      "   var2(t+3)  var3(t+3)  var4(t+3)  var1(t+4)  var2(t+4)  var3(t+4)  var4(t+4)  \n",
      "1   0.006351   0.979147   0.260804   0.866757   0.010666   0.979147   0.251245  \n",
      "2   0.010666   0.979147   0.251245   0.836686   0.015361   0.979147   0.176366  \n",
      "3   0.015361   0.979147   0.176366   0.795766   0.039739   0.944869   0.308788  \n",
      "4   0.039739   0.944869   0.308788   0.792489   0.056918   0.944869   0.252158  \n",
      "5   0.056918   0.944869   0.252158   0.822810   0.058952   0.944869   0.321378  \n",
      "\n",
      "[5 rows x 21 columns]\n"
     ]
    }
   ],
   "source": [
    "reframed.drop(reframed.columns[[5,6,7]], axis=1, inplace=True)\n",
    "print(reframed.head())"
   ]
  },
  {
   "cell_type": "code",
   "execution_count": 244,
   "metadata": {},
   "outputs": [],
   "source": [
    "values = reframed.values"
   ]
  },
  {
   "cell_type": "code",
   "execution_count": 245,
   "metadata": {},
   "outputs": [],
   "source": [
    "split = int(0.7 * len(values))\n",
    "train = values[:split,:]\n",
    "test = values[split:,:]\n",
    "n_features = 4\n",
    "n_steps = 1"
   ]
  },
  {
   "cell_type": "code",
   "execution_count": 354,
   "metadata": {},
   "outputs": [
    {
     "name": "stdout",
     "output_type": "stream",
     "text": [
      "(350, 4) 350 (350,)\n"
     ]
    }
   ],
   "source": [
    "n_obs = n_steps * n_features\n",
    "train_X, train_y = train[:, :n_obs], train[:, -n_features]\n",
    "test_X, test_y = test[:, :n_obs], test[:, -n_features]\n",
    "print(train_X.shape, len(train_X), train_y.shape)"
   ]
  },
  {
   "cell_type": "code",
   "execution_count": 355,
   "metadata": {},
   "outputs": [
    {
     "name": "stdout",
     "output_type": "stream",
     "text": [
      "(350, 1, 4) (350,) (150, 1, 4) (150,)\n"
     ]
    }
   ],
   "source": [
    "train_X = train_X.reshape((train_X.shape[0], n_steps, n_features))\n",
    "test_X = test_X.reshape((test_X.shape[0], n_steps, n_features))\n",
    "print(train_X.shape, train_y.shape, test_X.shape, test_y.shape)"
   ]
  },
  {
   "cell_type": "code",
   "execution_count": 248,
   "metadata": {},
   "outputs": [],
   "source": [
    "model = Sequential()\n",
    "model.add(LSTM(50, input_shape=(train_X.shape[1], train_X.shape[2]),return_sequences=True))\n",
    "model.add(Dropout(.2))\n",
    "model.add(LSTM(units=50, return_sequences=True))\n",
    "model.add(Dropout(.2))\n",
    "model.add(LSTM(units=50, return_sequences=True))\n",
    "model.add(Dropout(.2))\n",
    "model.add(Dense(1))\n",
    "#model.compile(loss='mae', optimizer='adam')\n",
    "model.compile(optimizer=\"adam\", loss=\"mean_squared_error\")"
   ]
  },
  {
   "cell_type": "code",
   "execution_count": 249,
   "metadata": {
    "collapsed": true,
    "jupyter": {
     "outputs_hidden": true
    }
   },
   "outputs": [
    {
     "name": "stdout",
     "output_type": "stream",
     "text": [
      "Train on 350 samples, validate on 150 samples\n",
      "Epoch 1/100\n",
      "350/350 [==============================] - 11s 32ms/sample - loss: 0.0933 - val_loss: 0.0222\n",
      "Epoch 2/100\n",
      "350/350 [==============================] - 4s 10ms/sample - loss: 0.0226 - val_loss: 0.0133\n",
      "Epoch 3/100\n",
      "350/350 [==============================] - 3s 10ms/sample - loss: 0.0135 - val_loss: 0.0062\n",
      "Epoch 4/100\n",
      "350/350 [==============================] - 3s 9ms/sample - loss: 0.0093 - val_loss: 0.0076\n",
      "Epoch 5/100\n",
      "350/350 [==============================] - 3s 9ms/sample - loss: 0.0073 - val_loss: 0.0067\n",
      "Epoch 6/100\n",
      "350/350 [==============================] - 3s 9ms/sample - loss: 0.0071 - val_loss: 0.0081\n",
      "Epoch 7/100\n",
      "350/350 [==============================] - 3s 9ms/sample - loss: 0.0052 - val_loss: 0.0113\n",
      "Epoch 8/100\n",
      "350/350 [==============================] - 3s 9ms/sample - loss: 0.0049 - val_loss: 0.0131\n",
      "Epoch 9/100\n",
      "350/350 [==============================] - 3s 9ms/sample - loss: 0.0046 - val_loss: 0.0141\n",
      "Epoch 10/100\n",
      "350/350 [==============================] - 3s 9ms/sample - loss: 0.0050 - val_loss: 0.0135\n",
      "Epoch 11/100\n",
      "350/350 [==============================] - 3s 9ms/sample - loss: 0.0046 - val_loss: 0.0158\n",
      "Epoch 12/100\n",
      "350/350 [==============================] - 3s 9ms/sample - loss: 0.0042 - val_loss: 0.0174\n",
      "Epoch 13/100\n",
      "350/350 [==============================] - 3s 10ms/sample - loss: 0.0041 - val_loss: 0.0167\n",
      "Epoch 14/100\n",
      "350/350 [==============================] - 3s 10ms/sample - loss: 0.0043 - val_loss: 0.0155\n",
      "Epoch 15/100\n",
      "350/350 [==============================] - 3s 8ms/sample - loss: 0.0035 - val_loss: 0.0257\n",
      "Epoch 16/100\n",
      "350/350 [==============================] - 3s 9ms/sample - loss: 0.0044 - val_loss: 0.0127\n",
      "Epoch 17/100\n",
      "350/350 [==============================] - 3s 9ms/sample - loss: 0.0038 - val_loss: 0.0225\n",
      "Epoch 18/100\n",
      "350/350 [==============================] - 3s 9ms/sample - loss: 0.0034 - val_loss: 0.0151\n",
      "Epoch 19/100\n",
      "350/350 [==============================] - 3s 8ms/sample - loss: 0.0034 - val_loss: 0.0253\n",
      "Epoch 20/100\n",
      "350/350 [==============================] - 3s 8ms/sample - loss: 0.0036 - val_loss: 0.0157\n",
      "Epoch 21/100\n",
      "350/350 [==============================] - 3s 8ms/sample - loss: 0.0036 - val_loss: 0.0193\n",
      "Epoch 22/100\n",
      "350/350 [==============================] - 3s 9ms/sample - loss: 0.0032 - val_loss: 0.0127\n",
      "Epoch 23/100\n",
      "350/350 [==============================] - 3s 8ms/sample - loss: 0.0033 - val_loss: 0.0157\n",
      "Epoch 24/100\n",
      "350/350 [==============================] - 3s 8ms/sample - loss: 0.0029 - val_loss: 0.0143\n",
      "Epoch 25/100\n",
      "350/350 [==============================] - 3s 8ms/sample - loss: 0.0028 - val_loss: 0.0162\n",
      "Epoch 26/100\n",
      "350/350 [==============================] - 3s 8ms/sample - loss: 0.0028 - val_loss: 0.0121\n",
      "Epoch 27/100\n",
      "350/350 [==============================] - 3s 8ms/sample - loss: 0.0032 - val_loss: 0.0209\n",
      "Epoch 28/100\n",
      "350/350 [==============================] - 3s 8ms/sample - loss: 0.0027 - val_loss: 0.0155\n",
      "Epoch 29/100\n",
      "350/350 [==============================] - 3s 9ms/sample - loss: 0.0030 - val_loss: 0.0191\n",
      "Epoch 30/100\n",
      "350/350 [==============================] - 3s 8ms/sample - loss: 0.0029 - val_loss: 0.0220\n",
      "Epoch 31/100\n",
      "350/350 [==============================] - 3s 8ms/sample - loss: 0.0026 - val_loss: 0.0190\n",
      "Epoch 32/100\n",
      "350/350 [==============================] - 3s 8ms/sample - loss: 0.0026 - val_loss: 0.0179\n",
      "Epoch 33/100\n",
      "350/350 [==============================] - 3s 8ms/sample - loss: 0.0024 - val_loss: 0.0165\n",
      "Epoch 34/100\n",
      "350/350 [==============================] - 3s 8ms/sample - loss: 0.0030 - val_loss: 0.0234\n",
      "Epoch 35/100\n",
      "350/350 [==============================] - 3s 8ms/sample - loss: 0.0032 - val_loss: 0.0175\n",
      "Epoch 36/100\n",
      "350/350 [==============================] - 3s 8ms/sample - loss: 0.0025 - val_loss: 0.0191\n",
      "Epoch 37/100\n",
      "350/350 [==============================] - 3s 8ms/sample - loss: 0.0025 - val_loss: 0.0185\n",
      "Epoch 38/100\n",
      "350/350 [==============================] - 3s 8ms/sample - loss: 0.0030 - val_loss: 0.0213\n",
      "Epoch 39/100\n",
      "350/350 [==============================] - 3s 8ms/sample - loss: 0.0026 - val_loss: 0.0157\n",
      "Epoch 40/100\n",
      "350/350 [==============================] - 3s 9ms/sample - loss: 0.0025 - val_loss: 0.0228\n",
      "Epoch 41/100\n",
      "350/350 [==============================] - 3s 8ms/sample - loss: 0.0024 - val_loss: 0.0143\n",
      "Epoch 42/100\n",
      "350/350 [==============================] - 3s 8ms/sample - loss: 0.0026 - val_loss: 0.0264\n",
      "Epoch 43/100\n",
      "350/350 [==============================] - 3s 8ms/sample - loss: 0.0027 - val_loss: 0.0148\n",
      "Epoch 44/100\n",
      "350/350 [==============================] - 3s 9ms/sample - loss: 0.0024 - val_loss: 0.0252\n",
      "Epoch 45/100\n",
      "350/350 [==============================] - 3s 8ms/sample - loss: 0.0027 - val_loss: 0.0177\n",
      "Epoch 46/100\n",
      "350/350 [==============================] - 3s 8ms/sample - loss: 0.0029 - val_loss: 0.0174\n",
      "Epoch 47/100\n",
      "350/350 [==============================] - 3s 8ms/sample - loss: 0.0025 - val_loss: 0.0155\n",
      "Epoch 48/100\n",
      "350/350 [==============================] - 3s 8ms/sample - loss: 0.0027 - val_loss: 0.0227\n",
      "Epoch 49/100\n",
      "350/350 [==============================] - 3s 8ms/sample - loss: 0.0026 - val_loss: 0.0190\n",
      "Epoch 50/100\n",
      "350/350 [==============================] - 3s 8ms/sample - loss: 0.0027 - val_loss: 0.0154\n",
      "Epoch 51/100\n",
      "350/350 [==============================] - 3s 9ms/sample - loss: 0.0028 - val_loss: 0.0226\n",
      "Epoch 52/100\n",
      "350/350 [==============================] - 3s 8ms/sample - loss: 0.0028 - val_loss: 0.0193\n",
      "Epoch 53/100\n",
      "350/350 [==============================] - 3s 8ms/sample - loss: 0.0027 - val_loss: 0.0171\n",
      "Epoch 54/100\n",
      "350/350 [==============================] - 3s 8ms/sample - loss: 0.0028 - val_loss: 0.0175\n",
      "Epoch 55/100\n",
      "350/350 [==============================] - 3s 8ms/sample - loss: 0.0025 - val_loss: 0.0114\n",
      "Epoch 56/100\n",
      "350/350 [==============================] - 3s 8ms/sample - loss: 0.0025 - val_loss: 0.0179\n",
      "Epoch 57/100\n",
      "350/350 [==============================] - 3s 8ms/sample - loss: 0.0023 - val_loss: 0.0149\n",
      "Epoch 58/100\n",
      "350/350 [==============================] - 3s 8ms/sample - loss: 0.0025 - val_loss: 0.0204\n",
      "Epoch 59/100\n",
      "350/350 [==============================] - 3s 8ms/sample - loss: 0.0024 - val_loss: 0.0224\n",
      "Epoch 60/100\n",
      "350/350 [==============================] - 3s 8ms/sample - loss: 0.0026 - val_loss: 0.0126\n",
      "Epoch 61/100\n",
      "350/350 [==============================] - 3s 9ms/sample - loss: 0.0024 - val_loss: 0.0160\n",
      "Epoch 62/100\n",
      "350/350 [==============================] - 3s 8ms/sample - loss: 0.0024 - val_loss: 0.0262\n",
      "Epoch 63/100\n",
      "350/350 [==============================] - 3s 8ms/sample - loss: 0.0022 - val_loss: 0.0217\n",
      "Epoch 64/100\n",
      "350/350 [==============================] - 3s 8ms/sample - loss: 0.0023 - val_loss: 0.0184\n",
      "Epoch 65/100\n",
      "350/350 [==============================] - 3s 8ms/sample - loss: 0.0024 - val_loss: 0.0183\n",
      "Epoch 66/100\n",
      "350/350 [==============================] - 3s 8ms/sample - loss: 0.0024 - val_loss: 0.0194\n",
      "Epoch 67/100\n",
      "350/350 [==============================] - 3s 8ms/sample - loss: 0.0025 - val_loss: 0.0203\n",
      "Epoch 68/100\n",
      "350/350 [==============================] - 3s 8ms/sample - loss: 0.0027 - val_loss: 0.0150\n",
      "Epoch 69/100\n",
      "350/350 [==============================] - 3s 8ms/sample - loss: 0.0024 - val_loss: 0.0148\n",
      "Epoch 70/100\n",
      "350/350 [==============================] - 3s 9ms/sample - loss: 0.0027 - val_loss: 0.0215\n",
      "Epoch 71/100\n",
      "350/350 [==============================] - 3s 8ms/sample - loss: 0.0026 - val_loss: 0.0190\n",
      "Epoch 72/100\n",
      "350/350 [==============================] - 3s 9ms/sample - loss: 0.0023 - val_loss: 0.0184\n",
      "Epoch 73/100\n",
      "350/350 [==============================] - 3s 8ms/sample - loss: 0.0025 - val_loss: 0.0124\n",
      "Epoch 74/100\n",
      "350/350 [==============================] - 3s 8ms/sample - loss: 0.0023 - val_loss: 0.0184\n",
      "Epoch 75/100\n",
      "350/350 [==============================] - 3s 8ms/sample - loss: 0.0022 - val_loss: 0.0195\n",
      "Epoch 76/100\n",
      "350/350 [==============================] - 3s 8ms/sample - loss: 0.0026 - val_loss: 0.0095\n",
      "Epoch 77/100\n",
      "350/350 [==============================] - 3s 8ms/sample - loss: 0.0030 - val_loss: 0.0143\n",
      "Epoch 78/100\n",
      "350/350 [==============================] - 3s 8ms/sample - loss: 0.0025 - val_loss: 0.0151\n",
      "Epoch 79/100\n",
      "350/350 [==============================] - 3s 9ms/sample - loss: 0.0021 - val_loss: 0.0156\n",
      "Epoch 80/100\n",
      "350/350 [==============================] - 3s 8ms/sample - loss: 0.0025 - val_loss: 0.0152\n",
      "Epoch 81/100\n",
      "350/350 [==============================] - 3s 8ms/sample - loss: 0.0025 - val_loss: 0.0158\n",
      "Epoch 82/100\n",
      "350/350 [==============================] - 3s 8ms/sample - loss: 0.0027 - val_loss: 0.0112\n",
      "Epoch 83/100\n",
      "350/350 [==============================] - 3s 8ms/sample - loss: 0.0023 - val_loss: 0.0131\n",
      "Epoch 84/100\n",
      "350/350 [==============================] - 3s 8ms/sample - loss: 0.0025 - val_loss: 0.0146\n",
      "Epoch 85/100\n",
      "350/350 [==============================] - 3s 8ms/sample - loss: 0.0025 - val_loss: 0.0094\n",
      "Epoch 86/100\n",
      "350/350 [==============================] - 3s 9ms/sample - loss: 0.0027 - val_loss: 0.0190\n",
      "Epoch 87/100\n",
      "350/350 [==============================] - 3s 9ms/sample - loss: 0.0023 - val_loss: 0.0117\n",
      "Epoch 88/100\n",
      "350/350 [==============================] - 3s 8ms/sample - loss: 0.0026 - val_loss: 0.0148\n",
      "Epoch 89/100\n",
      "350/350 [==============================] - 3s 8ms/sample - loss: 0.0025 - val_loss: 0.0158\n",
      "Epoch 90/100\n",
      "350/350 [==============================] - 3s 8ms/sample - loss: 0.0023 - val_loss: 0.0162\n",
      "Epoch 91/100\n",
      "350/350 [==============================] - 3s 9ms/sample - loss: 0.0025 - val_loss: 0.0140\n",
      "Epoch 92/100\n",
      "350/350 [==============================] - 3s 8ms/sample - loss: 0.0026 - val_loss: 0.0132\n",
      "Epoch 93/100\n",
      "350/350 [==============================] - 3s 8ms/sample - loss: 0.0024 - val_loss: 0.0180\n",
      "Epoch 94/100\n",
      "350/350 [==============================] - 3s 9ms/sample - loss: 0.0026 - val_loss: 0.0124\n",
      "Epoch 95/100\n",
      "350/350 [==============================] - 3s 8ms/sample - loss: 0.0024 - val_loss: 0.0124\n",
      "Epoch 96/100\n",
      "350/350 [==============================] - 3s 8ms/sample - loss: 0.0026 - val_loss: 0.0103\n",
      "Epoch 97/100\n",
      "350/350 [==============================] - 3s 8ms/sample - loss: 0.0025 - val_loss: 0.0126\n",
      "Epoch 98/100\n",
      "350/350 [==============================] - 3s 8ms/sample - loss: 0.0025 - val_loss: 0.0167\n",
      "Epoch 99/100\n",
      "350/350 [==============================] - 3s 8ms/sample - loss: 0.0026 - val_loss: 0.0108\n",
      "Epoch 100/100\n",
      "350/350 [==============================] - 3s 8ms/sample - loss: 0.0026 - val_loss: 0.0121\n"
     ]
    }
   ],
   "source": [
    "history = model.fit(train_X, train_y, epochs=100, batch_size=1, validation_data=(test_X, test_y), verbose=1, shuffle=False)"
   ]
  },
  {
   "cell_type": "code",
   "execution_count": 258,
   "metadata": {},
   "outputs": [
    {
     "data": {
      "image/png": "[encoded data removed]",
      "text/plain": [
       "<Figure size 432x288 with 1 Axes>"
      ]
     },
     "metadata": {
      "needs_background": "light"
     },
     "output_type": "display_data"
    }
   ],
   "source": [
    "pyplot.plot(history.history['loss'], label='train')\n",
    "pyplot.plot(history.history['val_loss'], label='test')\n",
    "pyplot.legend()\n",
    "pyplot.show()"
   ]
  },
  {
   "cell_type": "code",
   "execution_count": 356,
   "metadata": {},
   "outputs": [],
   "source": [
    "# make a prediction\n",
    "yhat = model.predict(test_X)"
   ]
  },
  {
   "cell_type": "code",
   "execution_count": 357,
   "metadata": {},
   "outputs": [
    {
     "name": "stdout",
     "output_type": "stream",
     "text": [
      "150/150 [==============================] - 0s 147us/sample - loss: 0.0121\n"
     ]
    },
    {
     "data": {
      "text/plain": [
       "0.012080754549242557"
      ]
     },
     "execution_count": 357,
     "metadata": {},
     "output_type": "execute_result"
    }
   ],
   "source": [
    "model.evaluate(test_X, test_y, verbose=1)"
   ]
  },
  {
   "cell_type": "code",
   "execution_count": 358,
   "metadata": {},
   "outputs": [
    {
     "data": {
      "text/plain": [
       "(150, 1, 1)"
      ]
     },
     "execution_count": 358,
     "metadata": {},
     "output_type": "execute_result"
    }
   ],
   "source": [
    "yhat.shape"
   ]
  },
  {
   "cell_type": "code",
   "execution_count": 359,
   "metadata": {},
   "outputs": [],
   "source": [
    "yhat = yhat.reshape(150,1)\n",
    "feat_cols = -1 * (n_features - 1)"
   ]
  },
  {
   "cell_type": "code",
   "execution_count": 360,
   "metadata": {},
   "outputs": [],
   "source": [
    "test_X = test_X.reshape((test_X.shape[0], n_steps*n_features))"
   ]
  },
  {
   "cell_type": "code",
   "execution_count": 361,
   "metadata": {},
   "outputs": [],
   "source": [
    "#inv_yhat = np.concatenate((yhat, test_X[:, -3:]), axis=1)"
   ]
  },
  {
   "cell_type": "code",
   "execution_count": 362,
   "metadata": {},
   "outputs": [],
   "source": [
    "#inv_yhat = scaler.inverse_transform(inv_yhat)\n",
    "#inv_yhat = inv_yhat[:,0]"
   ]
  },
  {
   "cell_type": "code",
   "execution_count": 363,
   "metadata": {},
   "outputs": [],
   "source": [
    "from math import sqrt"
   ]
  },
  {
   "cell_type": "code",
   "execution_count": 364,
   "metadata": {},
   "outputs": [],
   "source": [
    "# invert scaling for forecast\n",
    "inv_yhat = np.concatenate((yhat, test_X[:, feat_cols:]), axis=1)\n",
    "inv_yhat = scaler.inverse_transform(inv_yhat)\n",
    "inv_yhat = inv_yhat[:,0]"
   ]
  },
  {
   "cell_type": "code",
   "execution_count": 365,
   "metadata": {},
   "outputs": [
    {
     "name": "stdout",
     "output_type": "stream",
     "text": [
      "Test RMSE: 791.326\n"
     ]
    }
   ],
   "source": [
    "# invert scaling for actual\n",
    "test_y = test_y.reshape((len(test_y), 1))\n",
    "inv_y = np.concatenate((test_y, test_X[:, feat_cols:]), axis=1)\n",
    "inv_y = scaler.inverse_transform(inv_y)\n",
    "inv_y = inv_y[:,0]\n",
    "# calculate RMSE\n",
    "rmse = sqrt(mean_squared_error(inv_y, inv_yhat))\n",
    "print('Test RMSE: %.3f' % rmse)"
   ]
  },
  {
   "cell_type": "code",
   "execution_count": 366,
   "metadata": {},
   "outputs": [
    {
     "data": {
      "text/plain": [
       "(150,)"
      ]
     },
     "execution_count": 366,
     "metadata": {},
     "output_type": "execute_result"
    }
   ],
   "source": [
    "inv_yhat.shape"
   ]
  },
  {
   "cell_type": "code",
   "execution_count": 367,
   "metadata": {},
   "outputs": [
    {
     "data": {
      "text/plain": [
       "<matplotlib.axes._subplots.AxesSubplot at 0x1805bc3aa48>"
      ]
     },
     "execution_count": 367,
     "metadata": {},
     "output_type": "execute_result"
    },
    {
     "data": {
      "image/png": "[encoded data removed]",
      "text/plain": [
       "<Figure size 432x288 with 1 Axes>"
      ]
     },
     "metadata": {
      "needs_background": "light"
     },
     "output_type": "display_data"
    }
   ],
   "source": [
    "results = {'Predicted':inv_yhat ,'Actual':inv_y}\n",
    "df_results = pd.DataFrame(results)\n",
    "df_results.plot()"
   ]
  },
  {
   "cell_type": "code",
   "execution_count": 327,
   "metadata": {},
   "outputs": [
    {
     "data": {
      "text/html": [
       "<div>\n",
       "<style scoped>\n",
       "    .dataframe tbody tr th:only-of-type {\n",
       "        vertical-align: middle;\n",
       "    }\n",
       "\n",
       "    .dataframe tbody tr th {\n",
       "        vertical-align: top;\n",
       "    }\n",
       "\n",
       "    .dataframe thead th {\n",
       "        text-align: right;\n",
       "    }\n",
       "</style>\n",
       "<table border=\"1\" class=\"dataframe\">\n",
       "  <thead>\n",
       "    <tr style=\"text-align: right;\">\n",
       "      <th></th>\n",
       "      <th>Predicted</th>\n",
       "      <th>Actual</th>\n",
       "    </tr>\n",
       "  </thead>\n",
       "  <tbody>\n",
       "    <tr>\n",
       "      <th>0</th>\n",
       "      <td>54527.476562</td>\n",
       "      <td>54524.300781</td>\n",
       "    </tr>\n",
       "    <tr>\n",
       "      <th>1</th>\n",
       "      <td>54362.750000</td>\n",
       "      <td>54589.300781</td>\n",
       "    </tr>\n",
       "    <tr>\n",
       "      <th>2</th>\n",
       "      <td>54554.109375</td>\n",
       "      <td>54613.699219</td>\n",
       "    </tr>\n",
       "    <tr>\n",
       "      <th>3</th>\n",
       "      <td>54526.132812</td>\n",
       "      <td>54432.898438</td>\n",
       "    </tr>\n",
       "    <tr>\n",
       "      <th>4</th>\n",
       "      <td>54405.105469</td>\n",
       "      <td>54423.699219</td>\n",
       "    </tr>\n",
       "  </tbody>\n",
       "</table>\n",
       "</div>"
      ],
      "text/plain": [
       "      Predicted        Actual\n",
       "0  54527.476562  54524.300781\n",
       "1  54362.750000  54589.300781\n",
       "2  54554.109375  54613.699219\n",
       "3  54526.132812  54432.898438\n",
       "4  54405.105469  54423.699219"
      ]
     },
     "execution_count": 327,
     "metadata": {},
     "output_type": "execute_result"
    }
   ],
   "source": [
    "df_results.head()"
   ]
  },
  {
   "cell_type": "code",
   "execution_count": null,
   "metadata": {},
   "outputs": [],
   "source": []
  }
 ],
 "metadata": {
  "kernelspec": {
   "display_name": "Python [conda env:pyvizenv] *",
   "language": "python",
   "name": "conda-env-pyvizenv-py"
  },
  "language_info": {
   "codemirror_mode": {
    "name": "ipython",
    "version": 3
   },
   "file_extension": ".py",
   "mimetype": "text/x-python",
   "name": "python",
   "nbconvert_exporter": "python",
   "pygments_lexer": "ipython3",
   "version": "3.7.9"
  }
 },
 "nbformat": 4,
 "nbformat_minor": 4
}
